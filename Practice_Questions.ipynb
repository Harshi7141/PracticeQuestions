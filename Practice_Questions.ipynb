{
 "cells": [
  {
   "cell_type": "markdown",
   "id": "7b44f551-a7d5-482c-b8c7-7d1bb932b94c",
   "metadata": {},
   "source": [
    "### 1. Check if a Number is Positive and Negative in Python\n",
    "##### Given an integer input, The objective is to write a code to Check if a Number is Positive or Negative"
   ]
  },
  {
   "cell_type": "code",
   "execution_count": 1,
   "id": "57aa3308-f9ed-426c-af2d-6130df355d16",
   "metadata": {},
   "outputs": [
    {
     "name": "stdin",
     "output_type": "stream",
     "text": [
      "num = 20\n"
     ]
    },
    {
     "name": "stdout",
     "output_type": "stream",
     "text": [
      "Number is Positive\n"
     ]
    }
   ],
   "source": [
    "i = int(input(\"num =\"))\n",
    "if i>0:\n",
    "    print(\"Number is Positive\")\n",
    "else:\n",
    "    print(\"Number is Negative\")"
   ]
  },
  {
   "cell_type": "markdown",
   "id": "01f19023-afbf-42e7-8581-1cc48730d1dd",
   "metadata": {},
   "source": [
    "### 2. Check Whether a Number is Even or Odd in Python\n",
    "##### Given an integer input num, the objective is to write a code to Check Whether a Number is Even or Odd in Python. To do so we check if the number is divisible by 2 or not, it’s Even if it’s divisible otherwise Odd"
   ]
  },
  {
   "cell_type": "code",
   "execution_count": 1,
   "id": "d6fce60a-bffc-427c-9d66-a44f359fa5f9",
   "metadata": {},
   "outputs": [
    {
     "name": "stdin",
     "output_type": "stream",
     "text": [
      "num = 2\n"
     ]
    },
    {
     "name": "stdout",
     "output_type": "stream",
     "text": [
      "Even\n"
     ]
    }
   ],
   "source": [
    "num = int(input(\"num =\"))\n",
    "if num%2==0:\n",
    "    print(\"Even\")\n",
    "else:\n",
    "    print(\"Odd\")"
   ]
  },
  {
   "cell_type": "markdown",
   "id": "e0f17d63-ce18-4430-a2bb-728b7afa37b8",
   "metadata": {},
   "source": [
    "### 3. Find the Sum of The First N Natural Numbers in Python\n",
    "##### Given an integer input the objective is to write a code to Find the Sum of First N Natural Numbers"
   ]
  },
  {
   "cell_type": "code",
   "execution_count": 2,
   "id": "7966333e-f383-478d-88bf-023572c60330",
   "metadata": {},
   "outputs": [
    {
     "name": "stdin",
     "output_type": "stream",
     "text": [
      "num = 4\n"
     ]
    },
    {
     "name": "stdout",
     "output_type": "stream",
     "text": [
      "10\n"
     ]
    }
   ],
   "source": [
    "num = int(input(\"num =\"))\n",
    "total=0\n",
    "for i in range(1,num+1):\n",
    "    total=total+i\n",
    "print(total)"
   ]
  },
  {
   "cell_type": "markdown",
   "id": "c24b8923-4624-4aeb-b8d3-780e956ca865",
   "metadata": {},
   "source": [
    "### 4. Find the Sum of N Natural Numbers in Python\n",
    "##### Given an integer input number, the objective is to sum all the numbers that lay from 1 to the integer input number and print the sum."
   ]
  },
  {
   "cell_type": "code",
   "execution_count": 4,
   "id": "c6371205-4942-4243-990f-170f530607aa",
   "metadata": {},
   "outputs": [
    {
     "name": "stdin",
     "output_type": "stream",
     "text": [
      "number = 10\n"
     ]
    },
    {
     "name": "stdout",
     "output_type": "stream",
     "text": [
      "55\n"
     ]
    }
   ],
   "source": [
    "number = int(input(\"number =\"))\n",
    "total = 0\n",
    "for i in range(1,number+1):\n",
    "    total = total+i\n",
    "print(total)"
   ]
  },
  {
   "cell_type": "markdown",
   "id": "c7c7515e-e62b-400f-b4a6-164721490175",
   "metadata": {},
   "source": [
    "### 5. Find the Sum of the Numbers in a Given Range\n",
    "##### Given two integer inputs as the range [ low , high ], the objective is to find the sum of the numbers that lay in the intervals given by the integer inputs."
   ]
  },
  {
   "cell_type": "code",
   "execution_count": 6,
   "id": "4ccacdda-2ff4-43f3-977d-172459df90a1",
   "metadata": {},
   "outputs": [
    {
     "name": "stdin",
     "output_type": "stream",
     "text": [
      "num1 = 2\n",
      "num2 = 10\n"
     ]
    },
    {
     "name": "stdout",
     "output_type": "stream",
     "text": [
      "54\n"
     ]
    }
   ],
   "source": [
    "num1= int(input(\"num1 =\"))\n",
    "num2= int(input(\"num2 =\"))\n",
    "total = 0\n",
    "for i in range(num1,num2+1):\n",
    "    total = total+i\n",
    "print(total)"
   ]
  },
  {
   "cell_type": "markdown",
   "id": "19605d8a-42b8-4147-bac5-be8d88da6c46",
   "metadata": {},
   "source": [
    "### 6. Find the Greatest of the Two Numbers\n",
    "##### Given two integer inputs as number1 and number2, the objective is to find the largest among the two."
   ]
  },
  {
   "cell_type": "markdown",
   "id": "bff1ac6f-e6dc-4f7e-b2cd-719afdf83df9",
   "metadata": {},
   "source": [
    "n1 = int(input(\"\"))\n",
    "n2 = int(input(\"\"))\n",
    "if n1>n2:\n",
    "    print(n1)\n",
    "else:\n",
    "    print(n2)"
   ]
  },
  {
   "cell_type": "markdown",
   "id": "309033ec-4d06-42ba-b3ad-fc2c11c653f6",
   "metadata": {},
   "source": [
    "### 7. Find the Greatest of the Three Numbers\n",
    "##### Given three integer inputs the objective is to find the largest among them."
   ]
  },
  {
   "cell_type": "code",
   "execution_count": 2,
   "id": "49059edb-b34b-480b-9582-9d61271df182",
   "metadata": {},
   "outputs": [
    {
     "name": "stdout",
     "output_type": "stream",
     "text": [
      "30\n"
     ]
    }
   ],
   "source": [
    "n1 = 10\n",
    "n2 = 20\n",
    "n3 = 30\n",
    "if n1>n2 and n1>n3:\n",
    "    print(n1)\n",
    "elif n2>n1 and n2>n3:\n",
    "    print(n2)\n",
    "else:\n",
    "    print(n3)"
   ]
  },
  {
   "cell_type": "markdown",
   "id": "bb07e4fa-c353-4038-b18b-57afe4a32b33",
   "metadata": {},
   "source": [
    "### 8. Check Whether a Year is a Leap Year or Not"
   ]
  },
  {
   "cell_type": "code",
   "execution_count": 4,
   "id": "9cdc23db-e4a4-4df2-9461-ae5efa87e51c",
   "metadata": {},
   "outputs": [
    {
     "name": "stdout",
     "output_type": "stream",
     "text": [
      "20 is leap year.\n"
     ]
    }
   ],
   "source": [
    "def leap(num):\n",
    "    if num%400==0 or (num%4==0 and num%100!=0):\n",
    "        print(f\"{num} is leap year.\")\n",
    "    else:\n",
    "        print(f\"{num} is not a leap year.\")\n",
    "leap(20)"
   ]
  },
  {
   "cell_type": "markdown",
   "id": "c2036c8c-3909-40b9-9c93-7f5d347b6b42",
   "metadata": {},
   "source": [
    "### 9. Check Whether a Number is a Prime or Not"
   ]
  },
  {
   "cell_type": "code",
   "execution_count": 5,
   "id": "97c9735e-1283-4858-b6cb-29070a8f6bd8",
   "metadata": {},
   "outputs": [
    {
     "name": "stdout",
     "output_type": "stream",
     "text": [
      "3 is a prime number\n"
     ]
    }
   ],
   "source": [
    "def primenum(number):\n",
    "    flag = False\n",
    "    if number == 1:\n",
    "        print(f\"{number} is not a prime number.\")\n",
    "    if number == 2:\n",
    "        print(f\"{number} is a prime number.\")\n",
    "    for i in range(2, int(number//2)+1):\n",
    "        if number%i==0:\n",
    "            flag = True\n",
    "            break\n",
    "    if flag:\n",
    "        print(f\"{number} is not a prime number.\")\n",
    "    else:\n",
    "        print(f\"{number} is a prime number\")\n",
    "primenum(3)"
   ]
  },
  {
   "cell_type": "markdown",
   "id": "21c2eb58-464b-4a74-8c3e-eaaf97b14ca1",
   "metadata": {},
   "source": [
    "### 10. Find the Prime Numbers in a Given Interval"
   ]
  },
  {
   "cell_type": "code",
   "execution_count": 6,
   "id": "22243a7c-e289-4714-b2d8-fa134c5d75b6",
   "metadata": {},
   "outputs": [
    {
     "name": "stdout",
     "output_type": "stream",
     "text": [
      "[2, 3, 5, 7]\n"
     ]
    }
   ],
   "source": [
    "def primeininterval(num1,num2):\n",
    "    primes=[]\n",
    "    for i in range(num1, num2+1):\n",
    "        flag = False\n",
    "        if i == 1:\n",
    "            continue\n",
    "        elif i == 2:\n",
    "            primes.append(2)\n",
    "            continue\n",
    "        for x in range(num1, i):\n",
    "            if i%x==0:\n",
    "                flag = True\n",
    "                break\n",
    "\n",
    "        if flag==False:\n",
    "            primes.append(i)\n",
    "    print(primes)   \n",
    "primeininterval(2,10)"
   ]
  },
  {
   "cell_type": "markdown",
   "id": "d160d2df-0853-44f1-983a-9f473696eef0",
   "metadata": {},
   "source": [
    "### 11. Find the sum of the Digits of a Number."
   ]
  },
  {
   "cell_type": "code",
   "execution_count": 3,
   "id": "a09275f4-c50f-4a32-984d-eb0dc824dda3",
   "metadata": {},
   "outputs": [
    {
     "name": "stdin",
     "output_type": "stream",
     "text": [
      "Enter a Number :  111\n"
     ]
    },
    {
     "name": "stdout",
     "output_type": "stream",
     "text": [
      "Sum of Digits Of Number is :  3\n"
     ]
    }
   ],
   "source": [
    "def digitsum():\n",
    "    num = int(input(\"Enter a Number : \"))\n",
    "    temp = num\n",
    "    sum=0\n",
    "    i = 1\n",
    "    while(temp):\n",
    "        remainder = temp%10\n",
    "        sum += remainder\n",
    "        temp = temp//10\n",
    "    print(\"Sum of Digits Of Number is : \",sum)\n",
    "digitsum()\n"
   ]
  },
  {
   "cell_type": "markdown",
   "id": "4b6eda71-0361-4bc3-bec8-6e3bfcc48d86",
   "metadata": {},
   "source": [
    "### 12. Find the Reverse of a Number."
   ]
  },
  {
   "cell_type": "code",
   "execution_count": 5,
   "id": "fcdee46c-f703-4f92-b3e2-737f2c4af12c",
   "metadata": {},
   "outputs": [
    {
     "name": "stdout",
     "output_type": "stream",
     "text": [
      "6543\n"
     ]
    }
   ],
   "source": [
    "def reversenum(num):\n",
    "    temp = num\n",
    "    reverse = 0\n",
    "    while num>0:\n",
    "        remainder = num%10\n",
    "        reverse = (reverse*10)+ remainder\n",
    "        num = num//10\n",
    "    print(reverse)\n",
    "\n",
    "reversenum(3456)"
   ]
  },
  {
   "cell_type": "code",
   "execution_count": null,
   "id": "e94f49b8-9902-4875-aac3-46cc45035acd",
   "metadata": {},
   "outputs": [],
   "source": []
  }
 ],
 "metadata": {
  "kernelspec": {
   "display_name": "Python 3 (ipykernel)",
   "language": "python",
   "name": "python3"
  },
  "language_info": {
   "codemirror_mode": {
    "name": "ipython",
    "version": 3
   },
   "file_extension": ".py",
   "mimetype": "text/x-python",
   "name": "python",
   "nbconvert_exporter": "python",
   "pygments_lexer": "ipython3",
   "version": "3.12.4"
  }
 },
 "nbformat": 4,
 "nbformat_minor": 5
}
