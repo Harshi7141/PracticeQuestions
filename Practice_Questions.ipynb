{
 "cells": [
  {
   "cell_type": "markdown",
   "id": "7b44f551-a7d5-482c-b8c7-7d1bb932b94c",
   "metadata": {},
   "source": [
    "### 1. Check if a Number is Positive and Negative in Python\n",
    "##### Given an integer input, The objective is to write a code to Check if a Number is Positive or Negative"
   ]
  },
  {
   "cell_type": "code",
   "execution_count": 1,
   "id": "57aa3308-f9ed-426c-af2d-6130df355d16",
   "metadata": {},
   "outputs": [
    {
     "name": "stdout",
     "output_type": "stream",
     "text": [
      "num = 20\n"
     ]
    },
    {
     "name": "stdout",
     "output_type": "stream",
     "text": [
      "Number is Positive\n"
     ]
    }
   ],
   "source": [
    "i = int(input(\"num =\"))\n",
    "if i>0:\n",
    "    print(\"Number is Positive\")\n",
    "else:\n",
    "    print(\"Number is Negative\")"
   ]
  },
  {
   "cell_type": "markdown",
   "id": "01f19023-afbf-42e7-8581-1cc48730d1dd",
   "metadata": {},
   "source": [
    "### 2. Check Whether a Number is Even or Odd in Python\n",
    "##### Given an integer input num, the objective is to write a code to Check Whether a Number is Even or Odd in Python. To do so we check if the number is divisible by 2 or not, it’s Even if it’s divisible otherwise Odd"
   ]
  },
  {
   "cell_type": "code",
   "execution_count": 1,
   "id": "d6fce60a-bffc-427c-9d66-a44f359fa5f9",
   "metadata": {},
   "outputs": [
    {
     "name": "stdout",
     "output_type": "stream",
     "text": [
      "num = 2\n"
     ]
    },
    {
     "name": "stdout",
     "output_type": "stream",
     "text": [
      "Even\n"
     ]
    }
   ],
   "source": [
    "num = int(input(\"num =\"))\n",
    "if num%2==0:\n",
    "    print(\"Even\")\n",
    "else:\n",
    "    print(\"Odd\")"
   ]
  },
  {
   "cell_type": "markdown",
   "id": "e0f17d63-ce18-4430-a2bb-728b7afa37b8",
   "metadata": {},
   "source": [
    "### 3. Find the Sum of The First N Natural Numbers in Python\n",
    "##### Given an integer input the objective is to write a code to Find the Sum of First N Natural Numbers"
   ]
  },
  {
   "cell_type": "code",
   "execution_count": 2,
   "id": "7966333e-f383-478d-88bf-023572c60330",
   "metadata": {},
   "outputs": [
    {
     "name": "stdout",
     "output_type": "stream",
     "text": [
      "num = 4\n"
     ]
    },
    {
     "name": "stdout",
     "output_type": "stream",
     "text": [
      "10\n"
     ]
    }
   ],
   "source": [
    "num = int(input(\"num =\"))\n",
    "total=0\n",
    "for i in range(1,num+1):\n",
    "    total=total+i\n",
    "print(total)"
   ]
  },
  {
   "cell_type": "markdown",
   "id": "c24b8923-4624-4aeb-b8d3-780e956ca865",
   "metadata": {},
   "source": [
    "### 4. Find the Sum of N Natural Numbers in Python\n",
    "##### Given an integer input number, the objective is to sum all the numbers that lay from 1 to the integer input number and print the sum."
   ]
  },
  {
   "cell_type": "code",
   "execution_count": 4,
   "id": "c6371205-4942-4243-990f-170f530607aa",
   "metadata": {},
   "outputs": [
    {
     "name": "stdout",
     "output_type": "stream",
     "text": [
      "number = 10\n"
     ]
    },
    {
     "name": "stdout",
     "output_type": "stream",
     "text": [
      "55\n"
     ]
    }
   ],
   "source": [
    "number = int(input(\"number =\"))\n",
    "total = 0\n",
    "for i in range(1,number+1):\n",
    "    total = total+i\n",
    "print(total)"
   ]
  },
  {
   "cell_type": "markdown",
   "id": "c7c7515e-e62b-400f-b4a6-164721490175",
   "metadata": {},
   "source": [
    "### 5. Find the Sum of the Numbers in a Given Range\n",
    "##### Given two integer inputs as the range [ low , high ], the objective is to find the sum of the numbers that lay in the intervals given by the integer inputs."
   ]
  },
  {
   "cell_type": "code",
   "execution_count": 6,
   "id": "4ccacdda-2ff4-43f3-977d-172459df90a1",
   "metadata": {},
   "outputs": [
    {
     "name": "stdout",
     "output_type": "stream",
     "text": [
      "num1 = 2\n",
      "num2 = 10\n"
     ]
    },
    {
     "name": "stdout",
     "output_type": "stream",
     "text": [
      "54\n"
     ]
    }
   ],
   "source": [
    "num1= int(input(\"num1 =\"))\n",
    "num2= int(input(\"num2 =\"))\n",
    "total = 0\n",
    "for i in range(num1,num2+1):\n",
    "    total = total+i\n",
    "print(total)"
   ]
  },
  {
   "cell_type": "markdown",
   "id": "19605d8a-42b8-4147-bac5-be8d88da6c46",
   "metadata": {},
   "source": [
    "### 6. Find the Greatest of the Two Numbers\n",
    "##### Given two integer inputs as number1 and number2, the objective is to find the largest among the two."
   ]
  },
  {
   "cell_type": "markdown",
   "id": "bff1ac6f-e6dc-4f7e-b2cd-719afdf83df9",
   "metadata": {},
   "source": [
    "n1 = int(input(\"\"))\n",
    "n2 = int(input(\"\"))\n",
    "if n1>n2:\n",
    "    print(n1)\n",
    "else:\n",
    "    print(n2)"
   ]
  },
  {
   "cell_type": "markdown",
   "id": "309033ec-4d06-42ba-b3ad-fc2c11c653f6",
   "metadata": {},
   "source": [
    "### 7. Find the Greatest of the Three Numbers\n",
    "##### Given three integer inputs the objective is to find the largest among them."
   ]
  },
  {
   "cell_type": "code",
   "execution_count": 2,
   "id": "49059edb-b34b-480b-9582-9d61271df182",
   "metadata": {},
   "outputs": [
    {
     "name": "stdout",
     "output_type": "stream",
     "text": [
      "30\n"
     ]
    }
   ],
   "source": [
    "n1 = 10\n",
    "n2 = 20\n",
    "n3 = 30\n",
    "if n1>n2 and n1>n3:\n",
    "    print(n1)\n",
    "elif n2>n1 and n2>n3:\n",
    "    print(n2)\n",
    "else:\n",
    "    print(n3)"
   ]
  },
  {
   "cell_type": "markdown",
   "id": "bb07e4fa-c353-4038-b18b-57afe4a32b33",
   "metadata": {},
   "source": [
    "### 8. Check Whether a Year is a Leap Year or Not"
   ]
  },
  {
   "cell_type": "code",
   "execution_count": 4,
   "id": "9cdc23db-e4a4-4df2-9461-ae5efa87e51c",
   "metadata": {},
   "outputs": [
    {
     "name": "stdout",
     "output_type": "stream",
     "text": [
      "20 is leap year.\n"
     ]
    }
   ],
   "source": [
    "def leap(num):\n",
    "    if num%400==0 or (num%4==0 and num%100!=0):\n",
    "        print(f\"{num} is leap year.\")\n",
    "    else:\n",
    "        print(f\"{num} is not a leap year.\")\n",
    "leap(20)"
   ]
  },
  {
   "cell_type": "markdown",
   "id": "c2036c8c-3909-40b9-9c93-7f5d347b6b42",
   "metadata": {},
   "source": [
    "### 9. Check Whether a Number is a Prime or Not"
   ]
  },
  {
   "cell_type": "code",
   "execution_count": 5,
   "id": "97c9735e-1283-4858-b6cb-29070a8f6bd8",
   "metadata": {},
   "outputs": [
    {
     "name": "stdout",
     "output_type": "stream",
     "text": [
      "3 is a prime number\n"
     ]
    }
   ],
   "source": [
    "def primenum(number):\n",
    "    flag = False\n",
    "    if number == 1:\n",
    "        print(f\"{number} is not a prime number.\")\n",
    "    if number == 2:\n",
    "        print(f\"{number} is a prime number.\")\n",
    "    for i in range(2, int(number//2)+1):\n",
    "        if number%i==0:\n",
    "            flag = True\n",
    "            break\n",
    "    if flag:\n",
    "        print(f\"{number} is not a prime number.\")\n",
    "    else:\n",
    "        print(f\"{number} is a prime number\")\n",
    "primenum(3)"
   ]
  },
  {
   "cell_type": "markdown",
   "id": "21c2eb58-464b-4a74-8c3e-eaaf97b14ca1",
   "metadata": {},
   "source": [
    "### 10. Find the Prime Numbers in a Given Interval"
   ]
  },
  {
   "cell_type": "code",
   "execution_count": 6,
   "id": "22243a7c-e289-4714-b2d8-fa134c5d75b6",
   "metadata": {},
   "outputs": [
    {
     "name": "stdout",
     "output_type": "stream",
     "text": [
      "[2, 3, 5, 7]\n"
     ]
    }
   ],
   "source": [
    "def primeininterval(num1,num2):\n",
    "    primes=[]\n",
    "    for i in range(num1, num2+1):\n",
    "        flag = False\n",
    "        if i == 1:\n",
    "            continue\n",
    "        elif i == 2:\n",
    "            primes.append(2)\n",
    "            continue\n",
    "        for x in range(num1, i):\n",
    "            if i%x==0:\n",
    "                flag = True\n",
    "                break\n",
    "\n",
    "        if flag==False:\n",
    "            primes.append(i)\n",
    "    print(primes)   \n",
    "primeininterval(2,10)"
   ]
  },
  {
   "cell_type": "markdown",
   "id": "d160d2df-0853-44f1-983a-9f473696eef0",
   "metadata": {},
   "source": [
    "### 11. Find the sum of the Digits of a Number."
   ]
  },
  {
   "cell_type": "code",
   "execution_count": 3,
   "id": "a09275f4-c50f-4a32-984d-eb0dc824dda3",
   "metadata": {},
   "outputs": [
    {
     "name": "stdout",
     "output_type": "stream",
     "text": [
      "Enter a Number :  111\n"
     ]
    },
    {
     "name": "stdout",
     "output_type": "stream",
     "text": [
      "Sum of Digits Of Number is :  3\n"
     ]
    }
   ],
   "source": [
    "def digitsum():\n",
    "    num = int(input(\"Enter a Number : \"))\n",
    "    temp = num\n",
    "    sum=0\n",
    "    i = 1\n",
    "    while(temp):\n",
    "        remainder = temp%10\n",
    "        sum += remainder\n",
    "        temp = temp//10\n",
    "    print(\"Sum of Digits Of Number is : \",sum)\n",
    "digitsum()\n"
   ]
  },
  {
   "cell_type": "markdown",
   "id": "4b6eda71-0361-4bc3-bec8-6e3bfcc48d86",
   "metadata": {},
   "source": [
    "### 12. Find the Reverse of a Number."
   ]
  },
  {
   "cell_type": "code",
   "execution_count": 5,
   "id": "fcdee46c-f703-4f92-b3e2-737f2c4af12c",
   "metadata": {},
   "outputs": [
    {
     "name": "stdout",
     "output_type": "stream",
     "text": [
      "6543\n"
     ]
    }
   ],
   "source": [
    "def reversenum(num):\n",
    "    temp = num\n",
    "    reverse = 0\n",
    "    while num>0:\n",
    "        remainder = num%10\n",
    "        reverse = (reverse*10)+ remainder\n",
    "        num = num//10\n",
    "    print(reverse)\n",
    "\n",
    "reversenum(3456)"
   ]
  },
  {
   "cell_type": "markdown",
   "id": "45c2a398-f460-4bc7-9710-ae98f13639ca",
   "metadata": {},
   "source": [
    "### 13. Check Whether or Not the Number is a Palindrome."
   ]
  },
  {
   "cell_type": "code",
   "execution_count": 1,
   "id": "dc823467-864f-477e-aaae-0b7c66440713",
   "metadata": {},
   "outputs": [
    {
     "name": "stdout",
     "output_type": "stream",
     "text": [
      "Enter a Palindrome Number :  1221\n"
     ]
    },
    {
     "name": "stdout",
     "output_type": "stream",
     "text": [
      "Entered Number 1221 is a Palindrome Number.\n"
     ]
    }
   ],
   "source": [
    "    def palindrome():\n",
    "        num = int(input(\"Enter a Palindrome Number : \"))\n",
    "        temp = num\n",
    "        reverse = 0\n",
    "        while temp>0:\n",
    "            remainder = temp%10\n",
    "            reverse = (reverse*10)+remainder\n",
    "            temp = temp //10\n",
    "        if num == reverse:\n",
    "            print(f\"Entered Number {num} is a Palindrome Number.\")\n",
    "        else:\n",
    "            print(f\"Entered Number {num} is not a Palindrome Number.\")\n",
    "    \n",
    "    palindrome()"
   ]
  },
  {
   "cell_type": "markdown",
   "id": "9af39230-41be-42a4-8a77-194b06ce7c9b",
   "metadata": {},
   "source": [
    "### 14. Check Whether a Given Number is an Armstrong Number or Not."
   ]
  },
  {
   "cell_type": "code",
   "execution_count": 3,
   "id": "09f88fa8-cb9f-4708-ab47-05db689f2051",
   "metadata": {},
   "outputs": [
    {
     "name": "stdout",
     "output_type": "stream",
     "text": [
      "Enter a Number :  34\n"
     ]
    },
    {
     "name": "stdout",
     "output_type": "stream",
     "text": [
      "Entered Number is not a Armstrong\n"
     ]
    }
   ],
   "source": [
    "def armstrongnum():\n",
    "    number = int(input(\"Enter a Number : \"))\n",
    "    temp = number\n",
    "    digit, sum = 0,0\n",
    "    length = len(str(temp))\n",
    "    for i in range(length):\n",
    "        digit = temp % 10\n",
    "        temp = temp/10\n",
    "        sum += pow(digit, length)\n",
    "    if sum == number:\n",
    "        print(\"Entered Number is Armstrong\")\n",
    "    else:\n",
    "        print(\"Entered Number is not a Armstrong\")\n",
    "\n",
    "armstrongnum()"
   ]
  },
  {
   "cell_type": "markdown",
   "id": "3075fecb-04af-4767-8a2b-2f333d57819b",
   "metadata": {},
   "source": [
    "### 15. Find the Armstrong Numbers in a given Range."
   ]
  },
  {
   "cell_type": "code",
   "execution_count": 4,
   "id": "5c106998-44e8-4bc8-9c8a-52e7cf9d4a38",
   "metadata": {},
   "outputs": [
    {
     "name": "stdout",
     "output_type": "stream",
     "text": [
      "153, 370, 371, 407, 1634, 8208, 9474, "
     ]
    }
   ],
   "source": [
    "def armstrongrange(low , high):\n",
    "\n",
    "    for i in range(low, high+1):\n",
    "        order = len(str(i))\n",
    "        sum = 0\n",
    "        temp = i \n",
    "        while temp > 0:\n",
    "            digit = temp%10\n",
    "            sum += digit**order\n",
    "            temp = temp//10\n",
    "        if i == sum:\n",
    "            print(i, end=', ')\n",
    "            \n",
    "armstrongrange(10,10000)    "
   ]
  },
  {
   "cell_type": "markdown",
   "id": "79061a5d-2aaf-43a2-8373-417290573b79",
   "metadata": {},
   "source": [
    "### 16. Find the Fibonacci Series up to Nth Term."
   ]
  },
  {
   "cell_type": "code",
   "execution_count": 1,
   "id": "555911a5-cda0-4953-8d55-ff98e380d331",
   "metadata": {},
   "outputs": [
    {
     "name": "stdout",
     "output_type": "stream",
     "text": [
      "Fibonacci Series :  0, 1, 1, 2, 3, 5, 8, 13, 21, 34, \n"
     ]
    }
   ],
   "source": [
    "def fibbo(num):\n",
    "    n1, n2=0,1\n",
    "    print(\"Fibonacci Series : \",n1,end=', ')\n",
    "    print(n2,end=', ')\n",
    "    for i in range(2,num):\n",
    "        n3 = n1+n2\n",
    "        n1 = n2\n",
    "        n2 = n3\n",
    "        print(n3, end=\", \")\n",
    "    print()\n",
    "\n",
    "fibbo(10)"
   ]
  },
  {
   "cell_type": "markdown",
   "id": "f12185e3-b17d-4775-9461-70a7ac62d97a",
   "metadata": {},
   "source": [
    "### 17. Factorial of a Number."
   ]
  },
  {
   "cell_type": "code",
   "execution_count": 2,
   "id": "32ea49d5-123a-4444-83c0-7b26ce1c385f",
   "metadata": {},
   "outputs": [
    {
     "name": "stdout",
     "output_type": "stream",
     "text": [
      "Factorial of number 6 is : 720\n"
     ]
    }
   ],
   "source": [
    "def factorial(num):\n",
    "    fact = 1\n",
    "    if num<0:\n",
    "        print(\"Not Possible.\")\n",
    "    else:\n",
    "        for i in range(1, num+1):\n",
    "            fact = fact* i\n",
    "    print(f\"Factorial of number {num} is : {fact}\")\n",
    "factorial(6)"
   ]
  },
  {
   "cell_type": "markdown",
   "id": "205bcba8-d363-4f67-b98c-6de4412aa38a",
   "metadata": {},
   "source": [
    "### 18. Find the Power of a Number."
   ]
  },
  {
   "cell_type": "code",
   "execution_count": 3,
   "id": "8e69971b-394b-4772-8f4a-348298ac6194",
   "metadata": {},
   "outputs": [
    {
     "name": "stdout",
     "output_type": "stream",
     "text": [
      "81\n"
     ]
    }
   ],
   "source": [
    "def powernum(num1, num2):\n",
    "    if num1<0 and num2<1:\n",
    "        print(\"Enter Valid Number.\")\n",
    "    else:\n",
    "        powers = num1**num2\n",
    "    print(powers)\n",
    "\n",
    "powernum(9,2)"
   ]
  },
  {
   "cell_type": "markdown",
   "id": "4c26f599-2d06-4eb9-8e3b-7fc6bb681bee",
   "metadata": {},
   "source": [
    "### 19. Find the factors of a Number."
   ]
  },
  {
   "cell_type": "code",
   "execution_count": 4,
   "id": "e0a83f2d-6fb8-4885-b580-b5a86ed83c72",
   "metadata": {},
   "outputs": [
    {
     "name": "stdout",
     "output_type": "stream",
     "text": [
      "1 2 4 5 10 20 25 50 100 "
     ]
    }
   ],
   "source": [
    "def factor(num):\n",
    "    for i in range(1,num+1):\n",
    "        if num%i==0:\n",
    "            print(i,end=' ')\n",
    "factor(100)"
   ]
  },
  {
   "cell_type": "markdown",
   "id": "3230121c-f613-4efd-90a3-632c224620d7",
   "metadata": {},
   "source": [
    "### 20. Finding Prime Factors of a Number."
   ]
  },
  {
   "cell_type": "code",
   "execution_count": 5,
   "id": "3fbbab6b-08e3-4b3b-b311-598564797572",
   "metadata": {},
   "outputs": [
    {
     "name": "stdout",
     "output_type": "stream",
     "text": [
      "[2, 3]\n"
     ]
    }
   ],
   "source": [
    "def primefactor(num,prime_factors=None):\n",
    "    prime_factors=[]\n",
    "    for i in range(1,num+1):\n",
    "        if i == 1:\n",
    "            continue\n",
    "        if num%i==0:\n",
    "            flag = 0\n",
    "            for j in range(2,i):\n",
    "                if i%j==0:\n",
    "                    flag = 1\n",
    "                    break\n",
    "            if flag==0:\n",
    "                prime_factors.append(i)\n",
    "    print(prime_factors)\n",
    "primefactor(24)"
   ]
  },
  {
   "cell_type": "markdown",
   "id": "83c78142-50d8-41bd-893e-46eb525a1df5",
   "metadata": {},
   "source": [
    "### 21. Check Whether or Not the Number is a Strong Number."
   ]
  },
  {
   "cell_type": "code",
   "execution_count": 1,
   "id": "c70a53f3-98db-4890-948d-9e11b0960f2a",
   "metadata": {},
   "outputs": [
    {
     "name": "stdout",
     "output_type": "stream",
     "text": [
      "45 is not a Strong Number.\n"
     ]
    }
   ],
   "source": [
    "def strongnum():\n",
    "    num = int(input(\"Enter a Number : \"))\n",
    "    temp = num\n",
    "    sum = 0\n",
    "    while(temp):\n",
    "        i = 1\n",
    "        p =1\n",
    "        r = temp%10\n",
    "        while i<=r:\n",
    "            p = p*i\n",
    "            i+=1\n",
    "        sum += p\n",
    "        temp = temp//10\n",
    "    if sum==num:\n",
    "        print(f\"{num} is a Strong Number.\")\n",
    "    else:\n",
    "        print(f\"{num} is not a Strong Number.\")\n",
    "strongnum()"
   ]
  },
  {
   "cell_type": "markdown",
   "id": "441a140d-35a3-4490-92f5-ad332580b0f6",
   "metadata": {},
   "source": [
    "### 22. Check Whether or Not the Number is a Perfect Number."
   ]
  },
  {
   "cell_type": "code",
   "execution_count": 2,
   "id": "e1569561-f667-410e-8ee3-cff8ea436a1a",
   "metadata": {},
   "outputs": [
    {
     "name": "stdout",
     "output_type": "stream",
     "text": [
      "Enter a Number :  24\n"
     ]
    },
    {
     "name": "stdout",
     "output_type": "stream",
     "text": [
      "Entered Number 24 is not a perfect Number.\n"
     ]
    }
   ],
   "source": [
    "def perfectnum():\n",
    "    num = int(input(\"Enter a Number : \"))\n",
    "    sum=0\n",
    "    perfect_list=[]\n",
    "    for i in range(1,num):\n",
    "        if num%i==0:\n",
    "            perfect_list.append(i)\n",
    "    for j in perfect_list:\n",
    "        sum+=j\n",
    "    if sum==num:\n",
    "        print(f\"Entered Number {num} is a perfect Number.\")\n",
    "    else:\n",
    "        print(f\"Entered Number {num} is not a perfect Number.\")\n",
    "perfectnum()"
   ]
  },
  {
   "cell_type": "markdown",
   "id": "edb19119-e699-4ba4-b7a2-d97e96a63b70",
   "metadata": {},
   "source": [
    "### 23. Check Whether or Not the Number is an Automorphic Number."
   ]
  },
  {
   "cell_type": "code",
   "execution_count": 5,
   "id": "5da0ecf2-b8f9-4c24-8a3e-1ca3ef8c38ef",
   "metadata": {},
   "outputs": [
    {
     "name": "stdout",
     "output_type": "stream",
     "text": [
      "Enter a Number :  5\n"
     ]
    },
    {
     "name": "stdout",
     "output_type": "stream",
     "text": [
      "Entered Number 5 is a Automorphic Number.\n"
     ]
    }
   ],
   "source": [
    "import math\n",
    "def automorphicnum():\n",
    "    num = int(input(\"Enter a Number : \"))\n",
    "    sq = pow(num, 2)\n",
    "    mod = pow(10, len(str(num)))\n",
    "    if sq%mod == num:\n",
    "        print(f\"Entered Number {num} is a Automorphic Number.\")\n",
    "    else:\n",
    "        print(f\"Entered Number {num} is not a Automorphic Number.\")\n",
    "automorphicnum()"
   ]
  },
  {
   "cell_type": "markdown",
   "id": "36024590-c0ba-4d37-811b-f3ba91dbc62f",
   "metadata": {},
   "source": [
    "### 24. Check Whether or Not a Number is a Harshad Number."
   ]
  },
  {
   "cell_type": "code",
   "execution_count": 6,
   "id": "bf116479-24e4-42fa-bf4a-2552e25fef5f",
   "metadata": {},
   "outputs": [
    {
     "name": "stdout",
     "output_type": "stream",
     "text": [
      "Enter a Number :  3\n"
     ]
    },
    {
     "name": "stdout",
     "output_type": "stream",
     "text": [
      "Entered Number 3 is a Harshhad Number.\n"
     ]
    }
   ],
   "source": [
    "def harshhadnum():\n",
    "    num = int(input(\"Enter a Number : \"))\n",
    "    temp = num\n",
    "    list = []\n",
    "    sum1 = 0\n",
    "    while temp>0:\n",
    "        mod = temp % 10\n",
    "        list.append(mod)\n",
    "        temp //= 10\n",
    "    sum1 = sum(list)\n",
    "    if 21%sum1==0:\n",
    "        print(f\"Entered Number {num} is a Harshhad Number.\")\n",
    "    else:\n",
    "        print(f\"Entered Number {num} is not a Harshhad Number.\")\n",
    "harshhadnum()"
   ]
  },
  {
   "cell_type": "markdown",
   "id": "9e3ea096-e74f-4e49-a321-39bc34cb1905",
   "metadata": {},
   "source": [
    "### 25. Check for Perfect Square."
   ]
  },
  {
   "cell_type": "code",
   "execution_count": 7,
   "id": "cb29d1d5-2b95-4813-8ce0-3bd6eaedb62a",
   "metadata": {},
   "outputs": [
    {
     "name": "stdout",
     "output_type": "stream",
     "text": [
      "Enter a Number :  4\n"
     ]
    },
    {
     "name": "stdout",
     "output_type": "stream",
     "text": [
      "True\n"
     ]
    }
   ],
   "source": [
    "from math import sqrt\n",
    "\n",
    "def isperfectsqrt(x):\n",
    "    if x >=0:\n",
    "        sr = int(sqrt(x))\n",
    "        return (sr*sr) == x\n",
    "    return False\n",
    "\n",
    "num = int(input(\"Enter a Number : \"))\n",
    "if isperfectsqrt(num):\n",
    "    print(\"True\")\n",
    "else:\n",
    "    print(\"False\")"
   ]
  },
  {
   "cell_type": "markdown",
   "id": "18bed44c-22cf-40d4-a1b1-6d34e4e440c2",
   "metadata": {},
   "source": [
    "### 26. Check Whether or Not the Number is an Abundant Number."
   ]
  },
  {
   "cell_type": "code",
   "execution_count": 1,
   "id": "05f32741-4594-4796-8a0a-24bb7eb0346f",
   "metadata": {},
   "outputs": [
    {
     "name": "stdout",
     "output_type": "stream",
     "text": [
      "Enter a Number :  244\n"
     ]
    },
    {
     "name": "stdout",
     "output_type": "stream",
     "text": [
      "Entered Number 244 is not a Abundant Number.\n"
     ]
    }
   ],
   "source": [
    "def abundantnum():\n",
    "    num = int(input(\"Enter a Number : \"))\n",
    "    list = []\n",
    "    sum = 0\n",
    "    for i in range(1,num):\n",
    "        if num%i==0:\n",
    "            list.append(i)\n",
    "    for j in list:\n",
    "        sum+=j\n",
    "    if sum>num:\n",
    "        print(f\"Entered Number {num} is a Abundant Number.\")\n",
    "    else:\n",
    "        print(f\"Entered Number {num} is not a Abundant Number.\")\n",
    "abundantnum()"
   ]
  },
  {
   "cell_type": "markdown",
   "id": "433a5696-c518-4218-8842-59d55f6fbd39",
   "metadata": {},
   "source": [
    "### 27. Check Whether or Not the Two Numbers  are Friendly Pairs."
   ]
  },
  {
   "cell_type": "code",
   "execution_count": 2,
   "id": "0d11a3cd-feb6-46d0-b03d-90189fdb97ad",
   "metadata": {},
   "outputs": [
    {
     "name": "stdout",
     "output_type": "stream",
     "text": [
      "Entered Pair 6,28 is a Friendly pair.\n"
     ]
    }
   ],
   "source": [
    "def printdivisior(num, factors=[]):\n",
    "    i =1\n",
    "    while i<=num:\n",
    "        if num%i==0:\n",
    "            factors.append(i)\n",
    "        i+=1\n",
    "    return sum(factors) - num\n",
    "\n",
    "if __name__ == \"__main__\":\n",
    "   number1 , number2 = 6,28\n",
    "   if int(printdivisior(number1,[])/number1) == int(printdivisior(number2,[])/number2):\n",
    "       print(f\"Entered Pair {number1},{number2} is a Friendly pair.\")\n",
    "   else:\n",
    "       print(f\"Entered Pair {number1},{number2} is not a Friendly pair.\")"
   ]
  },
  {
   "cell_type": "markdown",
   "id": "fe1fa4db-8073-487e-a8a5-4e13f0248a6f",
   "metadata": {},
   "source": [
    "### 28. Find Largest element in an array."
   ]
  },
  {
   "cell_type": "code",
   "execution_count": 3,
   "id": "4c561dff-680e-4290-803a-1b5b65708322",
   "metadata": {},
   "outputs": [
    {
     "name": "stdout",
     "output_type": "stream",
     "text": [
      "6\n"
     ]
    }
   ],
   "source": [
    "def largeelement(a=None):\n",
    "    if a is None:\n",
    "        a = [1,2,3,5,6]\n",
    "    max_element= a[0]\n",
    "    for i in a:\n",
    "        if i>max_element:\n",
    "            max_element = i\n",
    "    print(max_element)\n",
    "largeelement()"
   ]
  },
  {
   "cell_type": "markdown",
   "id": "17fda173-9fe0-4172-a91d-2289a2e4f144",
   "metadata": {},
   "source": [
    "### 29. Find Smallest element in an array."
   ]
  },
  {
   "cell_type": "code",
   "execution_count": 5,
   "id": "36bfa0e2-f30a-4a33-8a2c-17cbea082c03",
   "metadata": {},
   "outputs": [
    {
     "name": "stdout",
     "output_type": "stream",
     "text": [
      "1\n"
     ]
    }
   ],
   "source": [
    "def smallestnum(a=None):\n",
    "    if a is None:\n",
    "        a = [1,2,3,4,5,6]\n",
    "    min_element = a[0]\n",
    "    for i in a:\n",
    "        if i<min_element:\n",
    "            min_element = i\n",
    "    print(min_element)\n",
    "smallestnum()"
   ]
  },
  {
   "cell_type": "markdown",
   "id": "ac8757f5-1f3b-4b6f-bd71-af360b84de19",
   "metadata": {},
   "source": [
    "### 30. Find the Smallest and largest element in an array."
   ]
  },
  {
   "cell_type": "code",
   "execution_count": 6,
   "id": "713ae776-9ac9-4f70-a01c-3219b35f08ff",
   "metadata": {},
   "outputs": [
    {
     "name": "stdout",
     "output_type": "stream",
     "text": [
      "Min ELement is : 1, Max Element is : 6\n"
     ]
    }
   ],
   "source": [
    "def minandmax(a=None):\n",
    "    if a is None:\n",
    "        a=[1,2,3,4,5,6]\n",
    "    min_element=a[0]\n",
    "    max_element=a[0]\n",
    "    for i in a:\n",
    "        if i>max_element:\n",
    "            max_element = i\n",
    "        if i<min_element:\n",
    "            min_element=i\n",
    "    print(f\"Min ELement is : {min_element}, Max Element is : {max_element}\")\n",
    "minandmax()"
   ]
  },
  {
   "cell_type": "markdown",
   "id": "40728f49-06d7-4aef-8371-e26b69d8f1cb",
   "metadata": {},
   "source": [
    "### 31. Find Second Smallest Element in an Array."
   ]
  },
  {
   "cell_type": "code",
   "execution_count": 1,
   "id": "7a13de3b-d383-4904-9302-40fd8e4a5d1f",
   "metadata": {},
   "outputs": [
    {
     "name": "stdout",
     "output_type": "stream",
     "text": [
      "3\n"
     ]
    }
   ],
   "source": [
    "# num = [11,21,3,4,4,4,44,2,22,8]\n",
    "\n",
    "import math\n",
    "\n",
    "def secondsmallest(a):\n",
    "    first = a[0]\n",
    "    second = a[0]\n",
    "        \n",
    "    for i in range(0, len(a)):\n",
    "        if a[i] < first:\n",
    "            first = a[i]\n",
    "    for i in range(0, len(a)):\n",
    "        if a[i] != first and a[i] < second:\n",
    "            second = a[i]\n",
    "    print(second)\n",
    "secondsmallest(a = [11,21,3,4,4,4,44,2,22,8])"
   ]
  },
  {
   "cell_type": "markdown",
   "id": "8e0656fb-e53b-467a-9845-acde04f5a4da",
   "metadata": {},
   "source": [
    "### 32. Calculate the sum of elements in an array."
   ]
  },
  {
   "cell_type": "code",
   "execution_count": 3,
   "id": "833cf363-4eda-4672-b313-8c8d909c351f",
   "metadata": {},
   "outputs": [
    {
     "name": "stdout",
     "output_type": "stream",
     "text": [
      "123\n"
     ]
    }
   ],
   "source": [
    "def sumofarray(a):\n",
    "    sum = 0\n",
    "    for i in range(0, len(a)):\n",
    "        sum += a[i]\n",
    "    print(sum)\n",
    "sumofarray(a = [11,21,3,4,4,4,44,2,22,8])\n",
    "\n",
    "#another way\n",
    "\n",
    "def sumofarray(a):\n",
    "    b = sum(a)\n",
    "sumofarray(a = [11,21,3,4,4,4,44,2,22,8])"
   ]
  },
  {
   "cell_type": "markdown",
   "id": "9c077768-3432-4fa3-9eee-4ca083f019c4",
   "metadata": {},
   "source": [
    "### 33. Python Code for Reverse an Array."
   ]
  },
  {
   "cell_type": "code",
   "execution_count": 5,
   "id": "6794ad20-9e60-49cb-bebb-0047a6893d35",
   "metadata": {},
   "outputs": [
    {
     "name": "stdout",
     "output_type": "stream",
     "text": [
      "[8, 22, 2, 44, 4, 4, 4, 3, 21, 11]\n"
     ]
    }
   ],
   "source": [
    "def reversearray(a = [11,21,3,4,4,4,44,2,22,8]):\n",
    "    a.reverse()\n",
    "    print(a)\n",
    "reversearray()\n",
    "\n",
    "# Using For Loop\n",
    "def reversearr(a = [11,21,3,4,4,4,44,2,22,8]):\n",
    "    b=[]\n",
    "    for i in range(len(a)-1,-1,-1):\n",
    "        b.append(a[i])\n",
    "reversearr()"
   ]
  },
  {
   "cell_type": "markdown",
   "id": "58ca645f-7b7d-4c40-bd0c-16b2430c2e43",
   "metadata": {},
   "source": [
    "### 34. Python program to Sort first half in ascending order and second half in descending order in an array."
   ]
  },
  {
   "cell_type": "code",
   "execution_count": 8,
   "id": "392e007b-70c0-497a-bfda-27b0e64a0cbe",
   "metadata": {},
   "outputs": [
    {
     "name": "stdout",
     "output_type": "stream",
     "text": [
      "1 2 3 4 9 8 7 6 5 "
     ]
    }
   ],
   "source": [
    "def printOrder(arr, n):\n",
    "    arr.sort()\n",
    "    i = 0\n",
    "    j = n - 1\n",
    "    while i < n // 2:\n",
    "        print(arr[i],end=\" \")\n",
    "        i += 1\n",
    "    while j >= n // 2:\n",
    "        print(arr[j],end=\" \")\n",
    "        j -= 1\n",
    "\n",
    "arr = [5, 4, 6, 2, 1, 3, 8, 9, 7]\n",
    "n = len(arr)\n",
    "\n",
    "printOrder(arr, n)"
   ]
  },
  {
   "cell_type": "markdown",
   "id": "5212a9d8-463c-4f72-a53c-af377865a989",
   "metadata": {},
   "source": [
    "### 35. Python Program to sort the elements of an array."
   ]
  },
  {
   "cell_type": "code",
   "execution_count": 10,
   "id": "235fc60a-ac0e-4c6b-b40e-adc0fdae6f83",
   "metadata": {},
   "outputs": [
    {
     "name": "stdout",
     "output_type": "stream",
     "text": [
      "Sorted Array: [10, 20, 30, 40]\n"
     ]
    }
   ],
   "source": [
    "def sorting_arr(arr):\n",
    "    arr=[10,40,20,30]\n",
    "    arr.sort()\n",
    "sorting_arr(arr)\n",
    "\n",
    "# Using For Loop  :\n",
    "def sort_arr(arr):\n",
    "    # Implementing bubble sort using for loop\n",
    "    n = len(arr)\n",
    "    \n",
    "    for i in range(n):\n",
    "        for j in range(0, n-i-1):\n",
    "            if arr[j] > arr[j+1]:\n",
    "                # Swap elements if they are in the wrong order\n",
    "                arr[j], arr[j+1] = arr[j+1], arr[j]\n",
    "    \n",
    "    return arr\n",
    "\n",
    "# Example usage\n",
    "arr = [10, 40, 20, 30]\n",
    "sorted_arr = sort_arr(arr)\n",
    "print(\"Sorted Array:\", sorted_arr)"
   ]
  },
  {
   "cell_type": "markdown",
   "id": "01cf1d7c-1ea2-43a0-a49b-9c1effba4694",
   "metadata": {},
   "source": [
    "### 36. Finding the frequency of element Frequency of elements in an array."
   ]
  },
  {
   "cell_type": "code",
   "execution_count": 1,
   "id": "89d73a5f-e86c-4d4d-a506-0269c40c8797",
   "metadata": {},
   "outputs": [
    {
     "name": "stdout",
     "output_type": "stream",
     "text": [
      "1 1\n",
      "2 1\n",
      "3 1\n",
      "4 1\n",
      "5 1\n",
      "5 2\n",
      "2 2\n",
      "3 2\n",
      "{1: 1, 2: 2, 3: 2, 4: 1, 5: 2}\n"
     ]
    }
   ],
   "source": [
    "#input_list = [1,2,3,4,5,5,2,3]\n",
    "def counter(input_list):\n",
    "    freq = {}\n",
    "    for i in input_list:\n",
    "        freq[i] = freq.get(i,0)+1\n",
    "        print(i, freq[i])\n",
    "    return freq\n",
    "print(counter([1,2,3,4,5,5,2,3]))"
   ]
  },
  {
   "cell_type": "markdown",
   "id": "e2db88ec-3d37-434d-910c-f4a469adc01d",
   "metadata": {},
   "source": [
    "### 37. Python Program for sorting elements of an Array by Frequency."
   ]
  },
  {
   "cell_type": "code",
   "execution_count": 2,
   "id": "e0ec1ae2-f657-472b-a46a-9cb40766b7c9",
   "metadata": {},
   "outputs": [
    {
     "name": "stdout",
     "output_type": "stream",
     "text": [
      "Counter({4: 3, 5: 2, 3: 2, 6: 1, 1: 1})\n",
      "Original Array: [4, 5, 4, 6, 3, 1, 3, 4, 5]\n",
      "Sorted by Frequency: [4, 4, 4, 3, 3, 5, 5, 1, 6]\n"
     ]
    }
   ],
   "source": [
    "from collections import Counter\n",
    "\n",
    "def sort_by_frequency(arr):\n",
    "    # Count the frequency of each element\n",
    "    frequency = Counter(arr)\n",
    "    print(frequency)\n",
    "\n",
    "    # Sort the array by frequency (descending), then by element value (ascending)\n",
    "    sorted_arr = sorted(arr, key=lambda x: (-frequency[x],x), reverse = False)\n",
    "    \n",
    "    return sorted_arr\n",
    "\n",
    "# Example usage\n",
    "array = [4,5,4,6,3,1,3,4,5]\n",
    "result = sort_by_frequency(array)\n",
    "print(\"Original Array:\", array)\n",
    "print(\"Sorted by Frequency:\", result)"
   ]
  },
  {
   "cell_type": "markdown",
   "id": "4ce590ee-3303-4aca-bf7f-4a4654e3317f",
   "metadata": {},
   "source": [
    "### 38. Find the Longest Palindrome in an Array."
   ]
  },
  {
   "cell_type": "code",
   "execution_count": 3,
   "id": "8a27e979-ac64-4a93-a2e1-5aef32dc3f98",
   "metadata": {},
   "outputs": [
    {
     "name": "stdout",
     "output_type": "stream",
     "text": [
      "The largest palindrome in the array is: 2002\n"
     ]
    }
   ],
   "source": [
    "def ispalindrome(n):\n",
    "    reverse = 0\n",
    "    temp = n\n",
    "    while temp > 0:\n",
    "        remainder = temp % 10\n",
    "        reverse = (reverse * 10) + remainder\n",
    "        temp = temp // 10\n",
    "    return n == reverse  # Returns True if n is a palindrome, else False\n",
    "\n",
    "def largePalindrome(arr, n):\n",
    "    current_max = -1\n",
    "    for i in range(n):\n",
    "        if arr[i] > current_max and ispalindrome(arr[i]):\n",
    "            current_max = arr[i]\n",
    "    \n",
    "    # Handle the case where no palindrome exists\n",
    "    if current_max == -1:\n",
    "        print(\"No palindrome found in the array.\")\n",
    "    else:\n",
    "        print(f\"The largest palindrome in the array is: {current_max}\")\n",
    "\n",
    "# Example usage\n",
    "arr = [810, 2002, 10, 303]\n",
    "n = len(arr)\n",
    "largePalindrome(arr, n)"
   ]
  },
  {
   "cell_type": "markdown",
   "id": "13554f5f-b61e-4198-a782-fc9a547ac50e",
   "metadata": {},
   "source": [
    "### 39. Python Program for Counting Distinct Elements in an Array."
   ]
  },
  {
   "cell_type": "code",
   "execution_count": 4,
   "id": "9e85b782-9bc7-46e5-9ca2-aee4867ec359",
   "metadata": {},
   "outputs": [
    {
     "data": {
      "text/plain": [
       "5"
      ]
     },
     "execution_count": 4,
     "metadata": {},
     "output_type": "execute_result"
    }
   ],
   "source": [
    "def distinctele(arr):\n",
    "    new = []\n",
    "    count = 0\n",
    "    for i in arr:\n",
    "        if i not in new:\n",
    "            new.append(i)\n",
    "            count += 1\n",
    "    return count\n",
    "arr = [10,20,40,30,50,20,10,30]\n",
    "distinctele(arr)"
   ]
  },
  {
   "cell_type": "markdown",
   "id": "abba6526-af31-40ab-a74f-a9262ff3420d",
   "metadata": {},
   "source": [
    "### 40. Finding Repeating elements in an Array in Python."
   ]
  },
  {
   "cell_type": "code",
   "execution_count": 5,
   "id": "47fd2ebc-1596-4067-a395-e4afc67151b6",
   "metadata": {},
   "outputs": [
    {
     "data": {
      "text/plain": [
       "[20, 10, 20]"
      ]
     },
     "execution_count": 5,
     "metadata": {},
     "output_type": "execute_result"
    }
   ],
   "source": [
    "def repeatingele(arr):\n",
    "    new=[]\n",
    "    repeat=[]\n",
    "    for i in arr:\n",
    "        if i in new:\n",
    "            repeat.append(i)\n",
    "        else:\n",
    "            new.append(i)\n",
    "    return repeat\n",
    "arr = [10, 20, 40, 30, 50, 20, 10, 20]\n",
    "repeatingele(arr)"
   ]
  },
  {
   "cell_type": "code",
   "execution_count": null,
   "id": "357a7824-132e-425c-96df-4c2ba5969345",
   "metadata": {},
   "outputs": [],
   "source": []
  }
 ],
 "metadata": {
  "kernelspec": {
   "display_name": "Python 3 (ipykernel)",
   "language": "python",
   "name": "python3"
  },
  "language_info": {
   "codemirror_mode": {
    "name": "ipython",
    "version": 3
   },
   "file_extension": ".py",
   "mimetype": "text/x-python",
   "name": "python",
   "nbconvert_exporter": "python",
   "pygments_lexer": "ipython3",
   "version": "3.12.4"
  }
 },
 "nbformat": 4,
 "nbformat_minor": 5
}
