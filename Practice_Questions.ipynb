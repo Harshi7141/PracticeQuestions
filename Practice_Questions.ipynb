{
 "cells": [
  {
   "cell_type": "markdown",
   "id": "7b44f551-a7d5-482c-b8c7-7d1bb932b94c",
   "metadata": {},
   "source": [
    "### 1. Check if a Number is Positive and Negative in Python\n",
    "##### Given an integer input, The objective is to write a code to Check if a Number is Positive or Negative"
   ]
  },
  {
   "cell_type": "code",
   "execution_count": 1,
   "id": "57aa3308-f9ed-426c-af2d-6130df355d16",
   "metadata": {},
   "outputs": [
    {
     "name": "stdout",
     "output_type": "stream",
     "text": [
      "num = 20\n"
     ]
    },
    {
     "name": "stdout",
     "output_type": "stream",
     "text": [
      "Number is Positive\n"
     ]
    }
   ],
   "source": [
    "i = int(input(\"num =\"))\n",
    "if i>0:\n",
    "    print(\"Number is Positive\")\n",
    "else:\n",
    "    print(\"Number is Negative\")"
   ]
  },
  {
   "cell_type": "markdown",
   "id": "01f19023-afbf-42e7-8581-1cc48730d1dd",
   "metadata": {},
   "source": [
    "### 2. Check Whether a Number is Even or Odd in Python\n",
    "##### Given an integer input num, the objective is to write a code to Check Whether a Number is Even or Odd in Python. To do so we check if the number is divisible by 2 or not, it’s Even if it’s divisible otherwise Odd"
   ]
  },
  {
   "cell_type": "code",
   "execution_count": 1,
   "id": "d6fce60a-bffc-427c-9d66-a44f359fa5f9",
   "metadata": {},
   "outputs": [
    {
     "name": "stdout",
     "output_type": "stream",
     "text": [
      "num = 2\n"
     ]
    },
    {
     "name": "stdout",
     "output_type": "stream",
     "text": [
      "Even\n"
     ]
    }
   ],
   "source": [
    "num = int(input(\"num =\"))\n",
    "if num%2==0:\n",
    "    print(\"Even\")\n",
    "else:\n",
    "    print(\"Odd\")"
   ]
  },
  {
   "cell_type": "markdown",
   "id": "e0f17d63-ce18-4430-a2bb-728b7afa37b8",
   "metadata": {},
   "source": [
    "### 3. Find the Sum of The First N Natural Numbers in Python\n",
    "##### Given an integer input the objective is to write a code to Find the Sum of First N Natural Numbers"
   ]
  },
  {
   "cell_type": "code",
   "execution_count": 2,
   "id": "7966333e-f383-478d-88bf-023572c60330",
   "metadata": {},
   "outputs": [
    {
     "name": "stdout",
     "output_type": "stream",
     "text": [
      "num = 4\n"
     ]
    },
    {
     "name": "stdout",
     "output_type": "stream",
     "text": [
      "10\n"
     ]
    }
   ],
   "source": [
    "num = int(input(\"num =\"))\n",
    "total=0\n",
    "for i in range(1,num+1):\n",
    "    total=total+i\n",
    "print(total)"
   ]
  },
  {
   "cell_type": "markdown",
   "id": "c24b8923-4624-4aeb-b8d3-780e956ca865",
   "metadata": {},
   "source": [
    "### 4. Find the Sum of N Natural Numbers in Python\n",
    "##### Given an integer input number, the objective is to sum all the numbers that lay from 1 to the integer input number and print the sum."
   ]
  },
  {
   "cell_type": "code",
   "execution_count": 4,
   "id": "c6371205-4942-4243-990f-170f530607aa",
   "metadata": {},
   "outputs": [
    {
     "name": "stdout",
     "output_type": "stream",
     "text": [
      "number = 10\n"
     ]
    },
    {
     "name": "stdout",
     "output_type": "stream",
     "text": [
      "55\n"
     ]
    }
   ],
   "source": [
    "number = int(input(\"number =\"))\n",
    "total = 0\n",
    "for i in range(1,number+1):\n",
    "    total = total+i\n",
    "print(total)"
   ]
  },
  {
   "cell_type": "markdown",
   "id": "c7c7515e-e62b-400f-b4a6-164721490175",
   "metadata": {},
   "source": [
    "### 5. Find the Sum of the Numbers in a Given Range\n",
    "##### Given two integer inputs as the range [ low , high ], the objective is to find the sum of the numbers that lay in the intervals given by the integer inputs."
   ]
  },
  {
   "cell_type": "code",
   "execution_count": 6,
   "id": "4ccacdda-2ff4-43f3-977d-172459df90a1",
   "metadata": {},
   "outputs": [
    {
     "name": "stdout",
     "output_type": "stream",
     "text": [
      "num1 = 2\n",
      "num2 = 10\n"
     ]
    },
    {
     "name": "stdout",
     "output_type": "stream",
     "text": [
      "54\n"
     ]
    }
   ],
   "source": [
    "num1= int(input(\"num1 =\"))\n",
    "num2= int(input(\"num2 =\"))\n",
    "total = 0\n",
    "for i in range(num1,num2+1):\n",
    "    total = total+i\n",
    "print(total)"
   ]
  },
  {
   "cell_type": "markdown",
   "id": "19605d8a-42b8-4147-bac5-be8d88da6c46",
   "metadata": {},
   "source": [
    "### 6. Find the Greatest of the Two Numbers\n",
    "##### Given two integer inputs as number1 and number2, the objective is to find the largest among the two."
   ]
  },
  {
   "cell_type": "markdown",
   "id": "bff1ac6f-e6dc-4f7e-b2cd-719afdf83df9",
   "metadata": {},
   "source": [
    "n1 = int(input(\"\"))\n",
    "n2 = int(input(\"\"))\n",
    "if n1>n2:\n",
    "    print(n1)\n",
    "else:\n",
    "    print(n2)"
   ]
  },
  {
   "cell_type": "markdown",
   "id": "309033ec-4d06-42ba-b3ad-fc2c11c653f6",
   "metadata": {},
   "source": [
    "### 7. Find the Greatest of the Three Numbers\n",
    "##### Given three integer inputs the objective is to find the largest among them."
   ]
  },
  {
   "cell_type": "code",
   "execution_count": 2,
   "id": "49059edb-b34b-480b-9582-9d61271df182",
   "metadata": {},
   "outputs": [
    {
     "name": "stdout",
     "output_type": "stream",
     "text": [
      "30\n"
     ]
    }
   ],
   "source": [
    "n1 = 10\n",
    "n2 = 20\n",
    "n3 = 30\n",
    "if n1>n2 and n1>n3:\n",
    "    print(n1)\n",
    "elif n2>n1 and n2>n3:\n",
    "    print(n2)\n",
    "else:\n",
    "    print(n3)"
   ]
  },
  {
   "cell_type": "markdown",
   "id": "bb07e4fa-c353-4038-b18b-57afe4a32b33",
   "metadata": {},
   "source": [
    "### 8. Check Whether a Year is a Leap Year or Not"
   ]
  },
  {
   "cell_type": "code",
   "execution_count": 4,
   "id": "9cdc23db-e4a4-4df2-9461-ae5efa87e51c",
   "metadata": {},
   "outputs": [
    {
     "name": "stdout",
     "output_type": "stream",
     "text": [
      "20 is leap year.\n"
     ]
    }
   ],
   "source": [
    "def leap(num):\n",
    "    if num%400==0 or (num%4==0 and num%100!=0):\n",
    "        print(f\"{num} is leap year.\")\n",
    "    else:\n",
    "        print(f\"{num} is not a leap year.\")\n",
    "leap(20)"
   ]
  },
  {
   "cell_type": "markdown",
   "id": "c2036c8c-3909-40b9-9c93-7f5d347b6b42",
   "metadata": {},
   "source": [
    "### 9. Check Whether a Number is a Prime or Not"
   ]
  },
  {
   "cell_type": "code",
   "execution_count": 5,
   "id": "97c9735e-1283-4858-b6cb-29070a8f6bd8",
   "metadata": {},
   "outputs": [
    {
     "name": "stdout",
     "output_type": "stream",
     "text": [
      "3 is a prime number\n"
     ]
    }
   ],
   "source": [
    "def primenum(number):\n",
    "    flag = False\n",
    "    if number == 1:\n",
    "        print(f\"{number} is not a prime number.\")\n",
    "    if number == 2:\n",
    "        print(f\"{number} is a prime number.\")\n",
    "    for i in range(2, int(number//2)+1):\n",
    "        if number%i==0:\n",
    "            flag = True\n",
    "            break\n",
    "    if flag:\n",
    "        print(f\"{number} is not a prime number.\")\n",
    "    else:\n",
    "        print(f\"{number} is a prime number\")\n",
    "primenum(3)"
   ]
  },
  {
   "cell_type": "markdown",
   "id": "21c2eb58-464b-4a74-8c3e-eaaf97b14ca1",
   "metadata": {},
   "source": [
    "### 10. Find the Prime Numbers in a Given Interval"
   ]
  },
  {
   "cell_type": "code",
   "execution_count": 6,
   "id": "22243a7c-e289-4714-b2d8-fa134c5d75b6",
   "metadata": {},
   "outputs": [
    {
     "name": "stdout",
     "output_type": "stream",
     "text": [
      "[2, 3, 5, 7]\n"
     ]
    }
   ],
   "source": [
    "def primeininterval(num1,num2):\n",
    "    primes=[]\n",
    "    for i in range(num1, num2+1):\n",
    "        flag = False\n",
    "        if i == 1:\n",
    "            continue\n",
    "        elif i == 2:\n",
    "            primes.append(2)\n",
    "            continue\n",
    "        for x in range(num1, i):\n",
    "            if i%x==0:\n",
    "                flag = True\n",
    "                break\n",
    "\n",
    "        if flag==False:\n",
    "            primes.append(i)\n",
    "    print(primes)   \n",
    "primeininterval(2,10)"
   ]
  },
  {
   "cell_type": "markdown",
   "id": "d160d2df-0853-44f1-983a-9f473696eef0",
   "metadata": {},
   "source": [
    "### 11. Find the sum of the Digits of a Number."
   ]
  },
  {
   "cell_type": "code",
   "execution_count": 3,
   "id": "a09275f4-c50f-4a32-984d-eb0dc824dda3",
   "metadata": {},
   "outputs": [
    {
     "name": "stdout",
     "output_type": "stream",
     "text": [
      "Enter a Number :  111\n"
     ]
    },
    {
     "name": "stdout",
     "output_type": "stream",
     "text": [
      "Sum of Digits Of Number is :  3\n"
     ]
    }
   ],
   "source": [
    "def digitsum():\n",
    "    num = int(input(\"Enter a Number : \"))\n",
    "    temp = num\n",
    "    sum=0\n",
    "    i = 1\n",
    "    while(temp):\n",
    "        remainder = temp%10\n",
    "        sum += remainder\n",
    "        temp = temp//10\n",
    "    print(\"Sum of Digits Of Number is : \",sum)\n",
    "digitsum()\n"
   ]
  },
  {
   "cell_type": "markdown",
   "id": "4b6eda71-0361-4bc3-bec8-6e3bfcc48d86",
   "metadata": {},
   "source": [
    "### 12. Find the Reverse of a Number."
   ]
  },
  {
   "cell_type": "code",
   "execution_count": 5,
   "id": "fcdee46c-f703-4f92-b3e2-737f2c4af12c",
   "metadata": {},
   "outputs": [
    {
     "name": "stdout",
     "output_type": "stream",
     "text": [
      "6543\n"
     ]
    }
   ],
   "source": [
    "def reversenum(num):\n",
    "    temp = num\n",
    "    reverse = 0\n",
    "    while num>0:\n",
    "        remainder = num%10\n",
    "        reverse = (reverse*10)+ remainder\n",
    "        num = num//10\n",
    "    print(reverse)\n",
    "\n",
    "reversenum(3456)"
   ]
  },
  {
   "cell_type": "markdown",
   "id": "45c2a398-f460-4bc7-9710-ae98f13639ca",
   "metadata": {},
   "source": [
    "### 13. Check Whether or Not the Number is a Palindrome."
   ]
  },
  {
   "cell_type": "code",
   "execution_count": 1,
   "id": "dc823467-864f-477e-aaae-0b7c66440713",
   "metadata": {},
   "outputs": [
    {
     "name": "stdout",
     "output_type": "stream",
     "text": [
      "Enter a Palindrome Number :  1221\n"
     ]
    },
    {
     "name": "stdout",
     "output_type": "stream",
     "text": [
      "Entered Number 1221 is a Palindrome Number.\n"
     ]
    }
   ],
   "source": [
    "    def palindrome():\n",
    "        num = int(input(\"Enter a Palindrome Number : \"))\n",
    "        temp = num\n",
    "        reverse = 0\n",
    "        while temp>0:\n",
    "            remainder = temp%10\n",
    "            reverse = (reverse*10)+remainder\n",
    "            temp = temp //10\n",
    "        if num == reverse:\n",
    "            print(f\"Entered Number {num} is a Palindrome Number.\")\n",
    "        else:\n",
    "            print(f\"Entered Number {num} is not a Palindrome Number.\")\n",
    "    \n",
    "    palindrome()"
   ]
  },
  {
   "cell_type": "markdown",
   "id": "9af39230-41be-42a4-8a77-194b06ce7c9b",
   "metadata": {},
   "source": [
    "### 14. Check Whether a Given Number is an Armstrong Number or Not."
   ]
  },
  {
   "cell_type": "code",
   "execution_count": 3,
   "id": "09f88fa8-cb9f-4708-ab47-05db689f2051",
   "metadata": {},
   "outputs": [
    {
     "name": "stdout",
     "output_type": "stream",
     "text": [
      "Enter a Number :  34\n"
     ]
    },
    {
     "name": "stdout",
     "output_type": "stream",
     "text": [
      "Entered Number is not a Armstrong\n"
     ]
    }
   ],
   "source": [
    "def armstrongnum():\n",
    "    number = int(input(\"Enter a Number : \"))\n",
    "    temp = number\n",
    "    digit, sum = 0,0\n",
    "    length = len(str(temp))\n",
    "    for i in range(length):\n",
    "        digit = temp % 10\n",
    "        temp = temp/10\n",
    "        sum += pow(digit, length)\n",
    "    if sum == number:\n",
    "        print(\"Entered Number is Armstrong\")\n",
    "    else:\n",
    "        print(\"Entered Number is not a Armstrong\")\n",
    "\n",
    "armstrongnum()"
   ]
  },
  {
   "cell_type": "markdown",
   "id": "3075fecb-04af-4767-8a2b-2f333d57819b",
   "metadata": {},
   "source": [
    "### 15. Find the Armstrong Numbers in a given Range."
   ]
  },
  {
   "cell_type": "code",
   "execution_count": 4,
   "id": "5c106998-44e8-4bc8-9c8a-52e7cf9d4a38",
   "metadata": {},
   "outputs": [
    {
     "name": "stdout",
     "output_type": "stream",
     "text": [
      "153, 370, 371, 407, 1634, 8208, 9474, "
     ]
    }
   ],
   "source": [
    "def armstrongrange(low , high):\n",
    "\n",
    "    for i in range(low, high+1):\n",
    "        order = len(str(i))\n",
    "        sum = 0\n",
    "        temp = i \n",
    "        while temp > 0:\n",
    "            digit = temp%10\n",
    "            sum += digit**order\n",
    "            temp = temp//10\n",
    "        if i == sum:\n",
    "            print(i, end=', ')\n",
    "            \n",
    "armstrongrange(10,10000)    "
   ]
  },
  {
   "cell_type": "markdown",
   "id": "79061a5d-2aaf-43a2-8373-417290573b79",
   "metadata": {},
   "source": [
    "### 16. Find the Fibonacci Series up to Nth Term."
   ]
  },
  {
   "cell_type": "code",
   "execution_count": 1,
   "id": "555911a5-cda0-4953-8d55-ff98e380d331",
   "metadata": {},
   "outputs": [
    {
     "name": "stdout",
     "output_type": "stream",
     "text": [
      "Fibonacci Series :  0, 1, 1, 2, 3, 5, 8, 13, 21, 34, \n"
     ]
    }
   ],
   "source": [
    "def fibbo(num):\n",
    "    n1, n2=0,1\n",
    "    print(\"Fibonacci Series : \",n1,end=', ')\n",
    "    print(n2,end=', ')\n",
    "    for i in range(2,num):\n",
    "        n3 = n1+n2\n",
    "        n1 = n2\n",
    "        n2 = n3\n",
    "        print(n3, end=\", \")\n",
    "    print()\n",
    "\n",
    "fibbo(10)"
   ]
  },
  {
   "cell_type": "markdown",
   "id": "f12185e3-b17d-4775-9461-70a7ac62d97a",
   "metadata": {},
   "source": [
    "### 17. Factorial of a Number."
   ]
  },
  {
   "cell_type": "code",
   "execution_count": 2,
   "id": "32ea49d5-123a-4444-83c0-7b26ce1c385f",
   "metadata": {},
   "outputs": [
    {
     "name": "stdout",
     "output_type": "stream",
     "text": [
      "Factorial of number 6 is : 720\n"
     ]
    }
   ],
   "source": [
    "def factorial(num):\n",
    "    fact = 1\n",
    "    if num<0:\n",
    "        print(\"Not Possible.\")\n",
    "    else:\n",
    "        for i in range(1, num+1):\n",
    "            fact = fact* i\n",
    "    print(f\"Factorial of number {num} is : {fact}\")\n",
    "factorial(6)"
   ]
  },
  {
   "cell_type": "markdown",
   "id": "205bcba8-d363-4f67-b98c-6de4412aa38a",
   "metadata": {},
   "source": [
    "### 18. Find the Power of a Number."
   ]
  },
  {
   "cell_type": "code",
   "execution_count": 3,
   "id": "8e69971b-394b-4772-8f4a-348298ac6194",
   "metadata": {},
   "outputs": [
    {
     "name": "stdout",
     "output_type": "stream",
     "text": [
      "81\n"
     ]
    }
   ],
   "source": [
    "def powernum(num1, num2):\n",
    "    if num1<0 and num2<1:\n",
    "        print(\"Enter Valid Number.\")\n",
    "    else:\n",
    "        powers = num1**num2\n",
    "    print(powers)\n",
    "\n",
    "powernum(9,2)"
   ]
  },
  {
   "cell_type": "markdown",
   "id": "4c26f599-2d06-4eb9-8e3b-7fc6bb681bee",
   "metadata": {},
   "source": [
    "### 19. Find the factors of a Number."
   ]
  },
  {
   "cell_type": "code",
   "execution_count": 4,
   "id": "e0a83f2d-6fb8-4885-b580-b5a86ed83c72",
   "metadata": {},
   "outputs": [
    {
     "name": "stdout",
     "output_type": "stream",
     "text": [
      "1 2 4 5 10 20 25 50 100 "
     ]
    }
   ],
   "source": [
    "def factor(num):\n",
    "    for i in range(1,num+1):\n",
    "        if num%i==0:\n",
    "            print(i,end=' ')\n",
    "factor(100)"
   ]
  },
  {
   "cell_type": "markdown",
   "id": "3230121c-f613-4efd-90a3-632c224620d7",
   "metadata": {},
   "source": [
    "### 20. Finding Prime Factors of a Number."
   ]
  },
  {
   "cell_type": "code",
   "execution_count": 5,
   "id": "3fbbab6b-08e3-4b3b-b311-598564797572",
   "metadata": {},
   "outputs": [
    {
     "name": "stdout",
     "output_type": "stream",
     "text": [
      "[2, 3]\n"
     ]
    }
   ],
   "source": [
    "def primefactor(num,prime_factors=None):\n",
    "    prime_factors=[]\n",
    "    for i in range(1,num+1):\n",
    "        if i == 1:\n",
    "            continue\n",
    "        if num%i==0:\n",
    "            flag = 0\n",
    "            for j in range(2,i):\n",
    "                if i%j==0:\n",
    "                    flag = 1\n",
    "                    break\n",
    "            if flag==0:\n",
    "                prime_factors.append(i)\n",
    "    print(prime_factors)\n",
    "primefactor(24)"
   ]
  },
  {
   "cell_type": "markdown",
   "id": "83c78142-50d8-41bd-893e-46eb525a1df5",
   "metadata": {},
   "source": [
    "### 21. Check Whether or Not the Number is a Strong Number."
   ]
  },
  {
   "cell_type": "code",
   "execution_count": 1,
   "id": "c70a53f3-98db-4890-948d-9e11b0960f2a",
   "metadata": {},
   "outputs": [
    {
     "name": "stdout",
     "output_type": "stream",
     "text": [
      "45 is not a Strong Number.\n"
     ]
    }
   ],
   "source": [
    "def strongnum():\n",
    "    num = int(input(\"Enter a Number : \"))\n",
    "    temp = num\n",
    "    sum = 0\n",
    "    while(temp):\n",
    "        i = 1\n",
    "        p =1\n",
    "        r = temp%10\n",
    "        while i<=r:\n",
    "            p = p*i\n",
    "            i+=1\n",
    "        sum += p\n",
    "        temp = temp//10\n",
    "    if sum==num:\n",
    "        print(f\"{num} is a Strong Number.\")\n",
    "    else:\n",
    "        print(f\"{num} is not a Strong Number.\")\n",
    "strongnum()"
   ]
  },
  {
   "cell_type": "markdown",
   "id": "441a140d-35a3-4490-92f5-ad332580b0f6",
   "metadata": {},
   "source": [
    "### 22. Check Whether or Not the Number is a Perfect Number."
   ]
  },
  {
   "cell_type": "code",
   "execution_count": 2,
   "id": "e1569561-f667-410e-8ee3-cff8ea436a1a",
   "metadata": {},
   "outputs": [
    {
     "name": "stdout",
     "output_type": "stream",
     "text": [
      "Enter a Number :  24\n"
     ]
    },
    {
     "name": "stdout",
     "output_type": "stream",
     "text": [
      "Entered Number 24 is not a perfect Number.\n"
     ]
    }
   ],
   "source": [
    "def perfectnum():\n",
    "    num = int(input(\"Enter a Number : \"))\n",
    "    sum=0\n",
    "    perfect_list=[]\n",
    "    for i in range(1,num):\n",
    "        if num%i==0:\n",
    "            perfect_list.append(i)\n",
    "    for j in perfect_list:\n",
    "        sum+=j\n",
    "    if sum==num:\n",
    "        print(f\"Entered Number {num} is a perfect Number.\")\n",
    "    else:\n",
    "        print(f\"Entered Number {num} is not a perfect Number.\")\n",
    "perfectnum()"
   ]
  },
  {
   "cell_type": "markdown",
   "id": "edb19119-e699-4ba4-b7a2-d97e96a63b70",
   "metadata": {},
   "source": [
    "### 23. Check Whether or Not the Number is an Automorphic Number."
   ]
  },
  {
   "cell_type": "code",
   "execution_count": 5,
   "id": "5da0ecf2-b8f9-4c24-8a3e-1ca3ef8c38ef",
   "metadata": {},
   "outputs": [
    {
     "name": "stdout",
     "output_type": "stream",
     "text": [
      "Enter a Number :  5\n"
     ]
    },
    {
     "name": "stdout",
     "output_type": "stream",
     "text": [
      "Entered Number 5 is a Automorphic Number.\n"
     ]
    }
   ],
   "source": [
    "import math\n",
    "def automorphicnum():\n",
    "    num = int(input(\"Enter a Number : \"))\n",
    "    sq = pow(num, 2)\n",
    "    mod = pow(10, len(str(num)))\n",
    "    if sq%mod == num:\n",
    "        print(f\"Entered Number {num} is a Automorphic Number.\")\n",
    "    else:\n",
    "        print(f\"Entered Number {num} is not a Automorphic Number.\")\n",
    "automorphicnum()"
   ]
  },
  {
   "cell_type": "markdown",
   "id": "36024590-c0ba-4d37-811b-f3ba91dbc62f",
   "metadata": {},
   "source": [
    "### 24. Check Whether or Not a Number is a Harshad Number."
   ]
  },
  {
   "cell_type": "code",
   "execution_count": 6,
   "id": "bf116479-24e4-42fa-bf4a-2552e25fef5f",
   "metadata": {},
   "outputs": [
    {
     "name": "stdout",
     "output_type": "stream",
     "text": [
      "Enter a Number :  3\n"
     ]
    },
    {
     "name": "stdout",
     "output_type": "stream",
     "text": [
      "Entered Number 3 is a Harshhad Number.\n"
     ]
    }
   ],
   "source": [
    "def harshhadnum():\n",
    "    num = int(input(\"Enter a Number : \"))\n",
    "    temp = num\n",
    "    list = []\n",
    "    sum1 = 0\n",
    "    while temp>0:\n",
    "        mod = temp % 10\n",
    "        list.append(mod)\n",
    "        temp //= 10\n",
    "    sum1 = sum(list)\n",
    "    if 21%sum1==0:\n",
    "        print(f\"Entered Number {num} is a Harshhad Number.\")\n",
    "    else:\n",
    "        print(f\"Entered Number {num} is not a Harshhad Number.\")\n",
    "harshhadnum()"
   ]
  },
  {
   "cell_type": "markdown",
   "id": "9e3ea096-e74f-4e49-a321-39bc34cb1905",
   "metadata": {},
   "source": [
    "### 25. Check for Perfect Square."
   ]
  },
  {
   "cell_type": "code",
   "execution_count": 7,
   "id": "cb29d1d5-2b95-4813-8ce0-3bd6eaedb62a",
   "metadata": {},
   "outputs": [
    {
     "name": "stdout",
     "output_type": "stream",
     "text": [
      "Enter a Number :  4\n"
     ]
    },
    {
     "name": "stdout",
     "output_type": "stream",
     "text": [
      "True\n"
     ]
    }
   ],
   "source": [
    "from math import sqrt\n",
    "\n",
    "def isperfectsqrt(x):\n",
    "    if x >=0:\n",
    "        sr = int(sqrt(x))\n",
    "        return (sr*sr) == x\n",
    "    return False\n",
    "\n",
    "num = int(input(\"Enter a Number : \"))\n",
    "if isperfectsqrt(num):\n",
    "    print(\"True\")\n",
    "else:\n",
    "    print(\"False\")"
   ]
  },
  {
   "cell_type": "markdown",
   "id": "18bed44c-22cf-40d4-a1b1-6d34e4e440c2",
   "metadata": {},
   "source": [
    "### 26. Check Whether or Not the Number is an Abundant Number."
   ]
  },
  {
   "cell_type": "code",
   "execution_count": 1,
   "id": "05f32741-4594-4796-8a0a-24bb7eb0346f",
   "metadata": {},
   "outputs": [
    {
     "name": "stdout",
     "output_type": "stream",
     "text": [
      "Enter a Number :  244\n"
     ]
    },
    {
     "name": "stdout",
     "output_type": "stream",
     "text": [
      "Entered Number 244 is not a Abundant Number.\n"
     ]
    }
   ],
   "source": [
    "def abundantnum():\n",
    "    num = int(input(\"Enter a Number : \"))\n",
    "    list = []\n",
    "    sum = 0\n",
    "    for i in range(1,num):\n",
    "        if num%i==0:\n",
    "            list.append(i)\n",
    "    for j in list:\n",
    "        sum+=j\n",
    "    if sum>num:\n",
    "        print(f\"Entered Number {num} is a Abundant Number.\")\n",
    "    else:\n",
    "        print(f\"Entered Number {num} is not a Abundant Number.\")\n",
    "abundantnum()"
   ]
  },
  {
   "cell_type": "markdown",
   "id": "433a5696-c518-4218-8842-59d55f6fbd39",
   "metadata": {},
   "source": [
    "### 27. Check Whether or Not the Two Numbers  are Friendly Pairs."
   ]
  },
  {
   "cell_type": "code",
   "execution_count": 2,
   "id": "0d11a3cd-feb6-46d0-b03d-90189fdb97ad",
   "metadata": {},
   "outputs": [
    {
     "name": "stdout",
     "output_type": "stream",
     "text": [
      "Entered Pair 6,28 is a Friendly pair.\n"
     ]
    }
   ],
   "source": [
    "def printdivisior(num, factors=[]):\n",
    "    i =1\n",
    "    while i<=num:\n",
    "        if num%i==0:\n",
    "            factors.append(i)\n",
    "        i+=1\n",
    "    return sum(factors) - num\n",
    "\n",
    "if __name__ == \"__main__\":\n",
    "   number1 , number2 = 6,28\n",
    "   if int(printdivisior(number1,[])/number1) == int(printdivisior(number2,[])/number2):\n",
    "       print(f\"Entered Pair {number1},{number2} is a Friendly pair.\")\n",
    "   else:\n",
    "       print(f\"Entered Pair {number1},{number2} is not a Friendly pair.\")"
   ]
  },
  {
   "cell_type": "markdown",
   "id": "fe1fa4db-8073-487e-a8a5-4e13f0248a6f",
   "metadata": {},
   "source": [
    "### 28. Find Largest element in an array."
   ]
  },
  {
   "cell_type": "code",
   "execution_count": 3,
   "id": "4c561dff-680e-4290-803a-1b5b65708322",
   "metadata": {},
   "outputs": [
    {
     "name": "stdout",
     "output_type": "stream",
     "text": [
      "6\n"
     ]
    }
   ],
   "source": [
    "def largeelement(a=None):\n",
    "    if a is None:\n",
    "        a = [1,2,3,5,6]\n",
    "    max_element= a[0]\n",
    "    for i in a:\n",
    "        if i>max_element:\n",
    "            max_element = i\n",
    "    print(max_element)\n",
    "largeelement()"
   ]
  },
  {
   "cell_type": "markdown",
   "id": "17fda173-9fe0-4172-a91d-2289a2e4f144",
   "metadata": {},
   "source": [
    "### 29. Find Smallest element in an array."
   ]
  },
  {
   "cell_type": "code",
   "execution_count": 5,
   "id": "36bfa0e2-f30a-4a33-8a2c-17cbea082c03",
   "metadata": {},
   "outputs": [
    {
     "name": "stdout",
     "output_type": "stream",
     "text": [
      "1\n"
     ]
    }
   ],
   "source": [
    "def smallestnum(a=None):\n",
    "    if a is None:\n",
    "        a = [1,2,3,4,5,6]\n",
    "    min_element = a[0]\n",
    "    for i in a:\n",
    "        if i<min_element:\n",
    "            min_element = i\n",
    "    print(min_element)\n",
    "smallestnum()"
   ]
  },
  {
   "cell_type": "markdown",
   "id": "ac8757f5-1f3b-4b6f-bd71-af360b84de19",
   "metadata": {},
   "source": [
    "### 30. Find the Smallest and largest element in an array."
   ]
  },
  {
   "cell_type": "code",
   "execution_count": 6,
   "id": "713ae776-9ac9-4f70-a01c-3219b35f08ff",
   "metadata": {},
   "outputs": [
    {
     "name": "stdout",
     "output_type": "stream",
     "text": [
      "Min ELement is : 1, Max Element is : 6\n"
     ]
    }
   ],
   "source": [
    "def minandmax(a=None):\n",
    "    if a is None:\n",
    "        a=[1,2,3,4,5,6]\n",
    "    min_element=a[0]\n",
    "    max_element=a[0]\n",
    "    for i in a:\n",
    "        if i>max_element:\n",
    "            max_element = i\n",
    "        if i<min_element:\n",
    "            min_element=i\n",
    "    print(f\"Min ELement is : {min_element}, Max Element is : {max_element}\")\n",
    "minandmax()"
   ]
  },
  {
   "cell_type": "markdown",
   "id": "40728f49-06d7-4aef-8371-e26b69d8f1cb",
   "metadata": {},
   "source": [
    "### 31. Find Second Smallest Element in an Array."
   ]
  },
  {
   "cell_type": "code",
   "execution_count": 1,
   "id": "7a13de3b-d383-4904-9302-40fd8e4a5d1f",
   "metadata": {},
   "outputs": [
    {
     "name": "stdout",
     "output_type": "stream",
     "text": [
      "3\n"
     ]
    }
   ],
   "source": [
    "# num = [11,21,3,4,4,4,44,2,22,8]\n",
    "\n",
    "import math\n",
    "\n",
    "def secondsmallest(a):\n",
    "    first = a[0]\n",
    "    second = a[0]\n",
    "        \n",
    "    for i in range(0, len(a)):\n",
    "        if a[i] < first:\n",
    "            first = a[i]\n",
    "    for i in range(0, len(a)):\n",
    "        if a[i] != first and a[i] < second:\n",
    "            second = a[i]\n",
    "    print(second)\n",
    "secondsmallest(a = [11,21,3,4,4,4,44,2,22,8])"
   ]
  },
  {
   "cell_type": "markdown",
   "id": "8e0656fb-e53b-467a-9845-acde04f5a4da",
   "metadata": {},
   "source": [
    "### 32. Calculate the sum of elements in an array."
   ]
  },
  {
   "cell_type": "code",
   "execution_count": 3,
   "id": "833cf363-4eda-4672-b313-8c8d909c351f",
   "metadata": {},
   "outputs": [
    {
     "name": "stdout",
     "output_type": "stream",
     "text": [
      "123\n"
     ]
    }
   ],
   "source": [
    "def sumofarray(a):\n",
    "    sum = 0\n",
    "    for i in range(0, len(a)):\n",
    "        sum += a[i]\n",
    "    print(sum)\n",
    "sumofarray(a = [11,21,3,4,4,4,44,2,22,8])\n",
    "\n",
    "#another way\n",
    "\n",
    "def sumofarray(a):\n",
    "    b = sum(a)\n",
    "sumofarray(a = [11,21,3,4,4,4,44,2,22,8])"
   ]
  },
  {
   "cell_type": "markdown",
   "id": "9c077768-3432-4fa3-9eee-4ca083f019c4",
   "metadata": {},
   "source": [
    "### 33. Python Code for Reverse an Array."
   ]
  },
  {
   "cell_type": "code",
   "execution_count": 5,
   "id": "6794ad20-9e60-49cb-bebb-0047a6893d35",
   "metadata": {},
   "outputs": [
    {
     "name": "stdout",
     "output_type": "stream",
     "text": [
      "[8, 22, 2, 44, 4, 4, 4, 3, 21, 11]\n"
     ]
    }
   ],
   "source": [
    "def reversearray(a = [11,21,3,4,4,4,44,2,22,8]):\n",
    "    a.reverse()\n",
    "    print(a)\n",
    "reversearray()\n",
    "\n",
    "# Using For Loop\n",
    "def reversearr(a = [11,21,3,4,4,4,44,2,22,8]):\n",
    "    b=[]\n",
    "    for i in range(len(a)-1,-1,-1):\n",
    "        b.append(a[i])\n",
    "reversearr()"
   ]
  },
  {
   "cell_type": "markdown",
   "id": "58ca645f-7b7d-4c40-bd0c-16b2430c2e43",
   "metadata": {},
   "source": [
    "### 34. Python program to Sort first half in ascending order and second half in descending order in an array."
   ]
  },
  {
   "cell_type": "code",
   "execution_count": 8,
   "id": "392e007b-70c0-497a-bfda-27b0e64a0cbe",
   "metadata": {},
   "outputs": [
    {
     "name": "stdout",
     "output_type": "stream",
     "text": [
      "1 2 3 4 9 8 7 6 5 "
     ]
    }
   ],
   "source": [
    "def printOrder(arr, n):\n",
    "    arr.sort()\n",
    "    i = 0\n",
    "    j = n - 1\n",
    "    while i < n // 2:\n",
    "        print(arr[i],end=\" \")\n",
    "        i += 1\n",
    "    while j >= n // 2:\n",
    "        print(arr[j],end=\" \")\n",
    "        j -= 1\n",
    "\n",
    "arr = [5, 4, 6, 2, 1, 3, 8, 9, 7]\n",
    "n = len(arr)\n",
    "\n",
    "printOrder(arr, n)"
   ]
  },
  {
   "cell_type": "markdown",
   "id": "5212a9d8-463c-4f72-a53c-af377865a989",
   "metadata": {},
   "source": [
    "### 35. Python Program to sort the elements of an array."
   ]
  },
  {
   "cell_type": "code",
   "execution_count": 10,
   "id": "235fc60a-ac0e-4c6b-b40e-adc0fdae6f83",
   "metadata": {},
   "outputs": [
    {
     "name": "stdout",
     "output_type": "stream",
     "text": [
      "Sorted Array: [10, 20, 30, 40]\n"
     ]
    }
   ],
   "source": [
    "def sorting_arr(arr):\n",
    "    arr=[10,40,20,30]\n",
    "    arr.sort()\n",
    "sorting_arr(arr)\n",
    "\n",
    "# Using For Loop  :\n",
    "def sort_arr(arr):\n",
    "    # Implementing bubble sort using for loop\n",
    "    n = len(arr)\n",
    "    \n",
    "    for i in range(n):\n",
    "        for j in range(0, n-i-1):\n",
    "            if arr[j] > arr[j+1]:\n",
    "                # Swap elements if they are in the wrong order\n",
    "                arr[j], arr[j+1] = arr[j+1], arr[j]\n",
    "    \n",
    "    return arr\n",
    "\n",
    "# Example usage\n",
    "arr = [10, 40, 20, 30]\n",
    "sorted_arr = sort_arr(arr)\n",
    "print(\"Sorted Array:\", sorted_arr)"
   ]
  },
  {
   "cell_type": "markdown",
   "id": "01cf1d7c-1ea2-43a0-a49b-9c1effba4694",
   "metadata": {},
   "source": [
    "### 36. Finding the frequency of element Frequency of elements in an array."
   ]
  },
  {
   "cell_type": "code",
   "execution_count": 1,
   "id": "89d73a5f-e86c-4d4d-a506-0269c40c8797",
   "metadata": {},
   "outputs": [
    {
     "name": "stdout",
     "output_type": "stream",
     "text": [
      "1 1\n",
      "2 1\n",
      "3 1\n",
      "4 1\n",
      "5 1\n",
      "5 2\n",
      "2 2\n",
      "3 2\n",
      "{1: 1, 2: 2, 3: 2, 4: 1, 5: 2}\n"
     ]
    }
   ],
   "source": [
    "#input_list = [1,2,3,4,5,5,2,3]\n",
    "def counter(input_list):\n",
    "    freq = {}\n",
    "    for i in input_list:\n",
    "        freq[i] = freq.get(i,0)+1\n",
    "        print(i, freq[i])\n",
    "    return freq\n",
    "print(counter([1,2,3,4,5,5,2,3]))"
   ]
  },
  {
   "cell_type": "markdown",
   "id": "e2db88ec-3d37-434d-910c-f4a469adc01d",
   "metadata": {},
   "source": [
    "### 37. Python Program for sorting elements of an Array by Frequency."
   ]
  },
  {
   "cell_type": "code",
   "execution_count": 2,
   "id": "e0ec1ae2-f657-472b-a46a-9cb40766b7c9",
   "metadata": {},
   "outputs": [
    {
     "name": "stdout",
     "output_type": "stream",
     "text": [
      "Counter({4: 3, 5: 2, 3: 2, 6: 1, 1: 1})\n",
      "Original Array: [4, 5, 4, 6, 3, 1, 3, 4, 5]\n",
      "Sorted by Frequency: [4, 4, 4, 3, 3, 5, 5, 1, 6]\n"
     ]
    }
   ],
   "source": [
    "from collections import Counter\n",
    "\n",
    "def sort_by_frequency(arr):\n",
    "    # Count the frequency of each element\n",
    "    frequency = Counter(arr)\n",
    "    print(frequency)\n",
    "\n",
    "    # Sort the array by frequency (descending), then by element value (ascending)\n",
    "    sorted_arr = sorted(arr, key=lambda x: (-frequency[x],x), reverse = False)\n",
    "    \n",
    "    return sorted_arr\n",
    "\n",
    "# Example usage\n",
    "array = [4,5,4,6,3,1,3,4,5]\n",
    "result = sort_by_frequency(array)\n",
    "print(\"Original Array:\", array)\n",
    "print(\"Sorted by Frequency:\", result)"
   ]
  },
  {
   "cell_type": "markdown",
   "id": "4ce590ee-3303-4aca-bf7f-4a4654e3317f",
   "metadata": {},
   "source": [
    "### 38. Find the Longest Palindrome in an Array."
   ]
  },
  {
   "cell_type": "code",
   "execution_count": 3,
   "id": "8a27e979-ac64-4a93-a2e1-5aef32dc3f98",
   "metadata": {},
   "outputs": [
    {
     "name": "stdout",
     "output_type": "stream",
     "text": [
      "The largest palindrome in the array is: 2002\n"
     ]
    }
   ],
   "source": [
    "def ispalindrome(n):\n",
    "    reverse = 0\n",
    "    temp = n\n",
    "    while temp > 0:\n",
    "        remainder = temp % 10\n",
    "        reverse = (reverse * 10) + remainder\n",
    "        temp = temp // 10\n",
    "    return n == reverse  # Returns True if n is a palindrome, else False\n",
    "\n",
    "def largePalindrome(arr, n):\n",
    "    current_max = -1\n",
    "    for i in range(n):\n",
    "        if arr[i] > current_max and ispalindrome(arr[i]):\n",
    "            current_max = arr[i]\n",
    "    \n",
    "    # Handle the case where no palindrome exists\n",
    "    if current_max == -1:\n",
    "        print(\"No palindrome found in the array.\")\n",
    "    else:\n",
    "        print(f\"The largest palindrome in the array is: {current_max}\")\n",
    "\n",
    "# Example usage\n",
    "arr = [810, 2002, 10, 303]\n",
    "n = len(arr)\n",
    "largePalindrome(arr, n)"
   ]
  },
  {
   "cell_type": "markdown",
   "id": "13554f5f-b61e-4198-a782-fc9a547ac50e",
   "metadata": {},
   "source": [
    "### 39. Python Program for Counting Distinct Elements in an Array."
   ]
  },
  {
   "cell_type": "code",
   "execution_count": 4,
   "id": "9e85b782-9bc7-46e5-9ca2-aee4867ec359",
   "metadata": {},
   "outputs": [
    {
     "data": {
      "text/plain": [
       "5"
      ]
     },
     "execution_count": 4,
     "metadata": {},
     "output_type": "execute_result"
    }
   ],
   "source": [
    "def distinctele(arr):\n",
    "    new = []\n",
    "    count = 0\n",
    "    for i in arr:\n",
    "        if i not in new:\n",
    "            new.append(i)\n",
    "            count += 1\n",
    "    return count\n",
    "arr = [10,20,40,30,50,20,10,30]\n",
    "distinctele(arr)"
   ]
  },
  {
   "cell_type": "markdown",
   "id": "abba6526-af31-40ab-a74f-a9262ff3420d",
   "metadata": {},
   "source": [
    "### 40. Finding Repeating elements in an Array in Python."
   ]
  },
  {
   "cell_type": "code",
   "execution_count": 5,
   "id": "47fd2ebc-1596-4067-a395-e4afc67151b6",
   "metadata": {},
   "outputs": [
    {
     "data": {
      "text/plain": [
       "[20, 10, 20]"
      ]
     },
     "execution_count": 5,
     "metadata": {},
     "output_type": "execute_result"
    }
   ],
   "source": [
    "def repeatingele(arr):\n",
    "    new=[]\n",
    "    repeat=[]\n",
    "    for i in arr:\n",
    "        if i in new:\n",
    "            repeat.append(i)\n",
    "        else:\n",
    "            new.append(i)\n",
    "    return repeat\n",
    "arr = [10, 20, 40, 30, 50, 20, 10, 20]\n",
    "repeatingele(arr)"
   ]
  },
  {
   "cell_type": "markdown",
   "id": "94296d21-d0af-486c-ba4e-e82cf30fa511",
   "metadata": {},
   "source": [
    "### 41. Find non-repeating elements in an array."
   ]
  },
  {
   "cell_type": "code",
   "execution_count": 1,
   "id": "0ed6d404-6b8f-4e04-b027-2fd11705ac7a",
   "metadata": {},
   "outputs": [
    {
     "data": {
      "text/plain": [
       "[20, 10, 20]"
      ]
     },
     "execution_count": 1,
     "metadata": {},
     "output_type": "execute_result"
    }
   ],
   "source": [
    "def nonrepeating(arr):\n",
    "    new = []\n",
    "    nonrepeat=[]\n",
    "    for i in arr:\n",
    "        if i in new:\n",
    "            nonrepeat.append(i)\n",
    "        else:\n",
    "            new.append(i)\n",
    "    return nonrepeat\n",
    "arr =  [10, 20, 70, 90, 80, 20, 10, 20]\n",
    "nonrepeating(arr)"
   ]
  },
  {
   "cell_type": "markdown",
   "id": "df457de8-48bc-43ee-a1fa-1a73f5743904",
   "metadata": {},
   "source": [
    "### 42. Removing Duplicate elements from an array."
   ]
  },
  {
   "cell_type": "code",
   "execution_count": 2,
   "id": "5fe5d4ae-e532-497c-add0-a9e72a2ae62c",
   "metadata": {},
   "outputs": [
    {
     "data": {
      "text/plain": [
       "[10, 20, 30, 40, 50]"
      ]
     },
     "execution_count": 2,
     "metadata": {},
     "output_type": "execute_result"
    }
   ],
   "source": [
    "def duplicates(arr):\n",
    "    new = []\n",
    "    duplicates=[]\n",
    "    for i in arr:\n",
    "        if i in new:\n",
    "            duplicates.append(i)\n",
    "        else:\n",
    "            new.append(i)\n",
    "    return new\n",
    "arr = [10, 20, 20, 30, 40, 40, 40, 50, 50]\n",
    "duplicates(arr)"
   ]
  },
  {
   "cell_type": "markdown",
   "id": "653bc438-82e1-4d39-b529-15ff141086c9",
   "metadata": {},
   "source": [
    "### 43. Finding minimum scalar product of two vectors."
   ]
  },
  {
   "cell_type": "code",
   "execution_count": 1,
   "id": "52e0cfab-7f36-4820-b0bf-ca21262393be",
   "metadata": {},
   "outputs": [
    {
     "name": "stdout",
     "output_type": "stream",
     "text": [
      "[45, 10, 7, 7, 3]\n",
      "149\n"
     ]
    }
   ],
   "source": [
    "arr1 = [1, 2, 6, 3, 7]\n",
    "arr2 = [10, 7, 45, 3, 7]\n",
    "def scalarvector(arr1,arr2):\n",
    "    \n",
    "    n = len(arr1) # n=5\n",
    "\n",
    "    for i in range(n): # i=0 to 4\n",
    "        for j in range(i+1, n): # j = 1 to 5\n",
    "            if arr2[i] < arr2[j]: # if 10 < 7 then swap\n",
    "                arr2[i] ,arr2[j] = arr2[j],arr2[i]\n",
    "    print(arr2)\n",
    "    product = 0\n",
    "    for i in range(n):\n",
    "        product += arr1[i] * arr2[i]\n",
    "    print(product)\n",
    "scalarvector(arr1,arr2)"
   ]
  },
  {
   "cell_type": "markdown",
   "id": "57301c9f-b395-4c3f-9bd3-157c5b281634",
   "metadata": {},
   "source": [
    "### 44. Python Program to Find Maximum Scalar Product of Two Vectors in an Array."
   ]
  },
  {
   "cell_type": "code",
   "execution_count": 3,
   "id": "0003b776-6651-4997-a84c-3b851844aac4",
   "metadata": {},
   "outputs": [
    {
     "name": "stdout",
     "output_type": "stream",
     "text": [
      "arr1 :  [1, 2, 3, 6, 7]\n",
      "arr2 :  [3, 7, 7, 10, 45]\n",
      "413\n"
     ]
    }
   ],
   "source": [
    "def scalarvector(arr1,arr2):\n",
    "    arr1 = [1, 2, 6, 3, 7]\n",
    "    arr2 = [10, 7, 45, 3, 7]\n",
    "\n",
    "    n=len(arr2)\n",
    "    arr1.sort()\n",
    "    print(\"arr1 : \", arr1)\n",
    "    arr2.sort()\n",
    "    print(\"arr2 : \",arr2)\n",
    "    product = 0\n",
    "    for i in range(n):\n",
    "        product += arr1[i] * arr2[i]\n",
    "    print(product)\n",
    "scalarvector(arr1,arr2)"
   ]
  },
  {
   "cell_type": "markdown",
   "id": "8adeaf5f-9421-4129-8b06-3f42a47d3f6b",
   "metadata": {},
   "source": [
    "### 45. Python program to count numbers of even and odd elements in an array."
   ]
  },
  {
   "cell_type": "code",
   "execution_count": 1,
   "id": "0cb9cd45-516a-4e8e-8547-a4b1c745ef11",
   "metadata": {},
   "outputs": [
    {
     "name": "stdout",
     "output_type": "stream",
     "text": [
      "Even Count : 4\n",
      "Odd Count : 3\n"
     ]
    }
   ],
   "source": [
    "arr = [1, 7, 8, 4, 5, 16, 8]\n",
    "\n",
    "\n",
    "def countevenodd(arr):\n",
    "    n=len(arr)\n",
    "    even_count = 0\n",
    "    odd_count = 0\n",
    "    for i in range(n):\n",
    "        if arr[i]%2==0:\n",
    "            even_count += 1\n",
    "        else:\n",
    "            odd_count += 1\n",
    "    print(f\"Even Count : {even_count}\")\n",
    "    print(f\"Odd Count : {odd_count}\")\n",
    "countevenodd(arr)"
   ]
  },
  {
   "cell_type": "markdown",
   "id": "95ed4493-dc27-45e0-aa29-9c1295b84164",
   "metadata": {},
   "source": [
    "### 46. Finding symmetric pairs in an array in Python."
   ]
  },
  {
   "cell_type": "code",
   "execution_count": 2,
   "id": "f3e292ef-a84f-44f1-b42f-641b72725c19",
   "metadata": {},
   "outputs": [
    {
     "name": "stdout",
     "output_type": "stream",
     "text": [
      "(4, 3)\n",
      "(2, 5)\n"
     ]
    }
   ],
   "source": [
    "pairs = [(3, 4), (1, 2), (5, 2), (7, 10), (4, 3), (2, 5)]\n",
    "\n",
    "def symmetricpair(paris):\n",
    "    a = set() #\n",
    "    for (x,y) in pairs:\n",
    "        a.add((x,y))\n",
    "        if (y,x) in a:\n",
    "            print((x,y))\n",
    "symmetricpair(pairs)"
   ]
  },
  {
   "cell_type": "markdown",
   "id": "f53363cd-a3af-4e08-8f23-464978561f81",
   "metadata": {},
   "source": [
    "### 47. Find maximum product sub-array in a given array."
   ]
  },
  {
   "cell_type": "code",
   "execution_count": 3,
   "id": "d4668028-e3a1-4167-93ab-1d4f9e8f0553",
   "metadata": {},
   "outputs": [
    {
     "name": "stdout",
     "output_type": "stream",
     "text": [
      "Maximum sub-array product is :  112\n"
     ]
    }
   ],
   "source": [
    "def maxproductofsubarray(arr,n):\n",
    "    result = arr[0]\n",
    "    list = []\n",
    "    for i in range(n):\n",
    "        mul = arr[i]\n",
    "        for j in range(i+1,n):\n",
    "            result = max(result,mul)\n",
    "            mul *= arr[j]\n",
    "        \n",
    "        result = max(result,mul)\n",
    "    return result\n",
    "\n",
    "arr = [1,-2,-3,0,7,-8,-2]\n",
    "n = len(arr)\n",
    "print(\"Maximum sub-array product is : \",maxproductofsubarray(arr,n))"
   ]
  },
  {
   "cell_type": "markdown",
   "id": "b2ac658d-6e67-4177-ba73-ff038e718661",
   "metadata": {},
   "source": [
    "### 48. Find whether arrays or disjoint or not."
   ]
  },
  {
   "cell_type": "code",
   "execution_count": 5,
   "id": "8d780040-2bc0-4211-8da8-2bbaa33c646f",
   "metadata": {},
   "outputs": [
    {
     "name": "stdin",
     "output_type": "stream",
     "text": [
      "Enter array1 1 2 3 4 5 6\n",
      "Enter array2 2 3 4 5 6 7\n"
     ]
    },
    {
     "name": "stdout",
     "output_type": "stream",
     "text": [
      "Not disjoint\n"
     ]
    }
   ],
   "source": [
    "def fun(l1,l2):\n",
    "    for i in range(0,len(l1)): # values of i are : 0,1,2,3,4,5\n",
    "        for j in range(0,len(l2)): # Values of j are : 0,1,2,3,4,5\n",
    "            if(l1[i]==l2[j]):\n",
    "                return False\n",
    "    return True\n",
    "\n",
    "l1=list(map(int,input(\"Enter array1\").split()))\n",
    "l2=list(map(int,input(\"Enter array2\").split()))\n",
    "if(fun(l1,l2)):\n",
    "    print(\"Disjoint\")\n",
    "\n",
    "else:\n",
    "    print(\"Not disjoint\")"
   ]
  },
  {
   "cell_type": "markdown",
   "id": "3d0fbbe7-106a-4b8d-874b-b7109b16c59e",
   "metadata": {},
   "source": [
    "### 49. Check whether array is subset of another array or not."
   ]
  },
  {
   "cell_type": "code",
   "execution_count": 6,
   "id": "ecc1d49e-f222-47cb-8835-f7ce85c40be8",
   "metadata": {},
   "outputs": [
    {
     "name": "stdout",
     "output_type": "stream",
     "text": [
      "arr2[] is a subset of arr1[]\n"
     ]
    }
   ],
   "source": [
    "def is_subset(arr1, arr2):\n",
    "    \"\"\"\n",
    "    Checks if arr2 is a subset of arr1.\n",
    "\n",
    "    Args:\n",
    "        arr1: The first array.\n",
    "        arr2: The second array.\n",
    "\n",
    "    Returns:\n",
    "        True if arr2 is a subset of arr1, False otherwise.\n",
    "    \"\"\"\n",
    "    for element in arr2:\n",
    "        if element not in arr1:\n",
    "            return False\n",
    "    return True\n",
    "\n",
    "arr1 = [11, 12, 13, 21, 30, 70]\n",
    "arr2 = [11, 30, 70, 12]\n",
    "\n",
    "if is_subset(arr1, arr2):\n",
    "    print(\"arr2[] is a subset of arr1[]\")\n",
    "else:\n",
    "    print(\"arr2[] is not a subset of arr1[]\")"
   ]
  },
  {
   "cell_type": "markdown",
   "id": "8fc8078c-664e-4d68-a63b-9ae8bc07720a",
   "metadata": {},
   "source": [
    "### 50. Finding Sum of Minimum Absolute Difference of Array."
   ]
  },
  {
   "cell_type": "code",
   "execution_count": 7,
   "id": "c8635d49-3dcb-42de-929d-1e84a1d7a603",
   "metadata": {},
   "outputs": [
    {
     "name": "stdout",
     "output_type": "stream",
     "text": [
      "Required Sum =  4\n"
     ]
    }
   ],
   "source": [
    "import sys\n",
    "\n",
    "def sumOfMinAbsDifferences(arr,n):\n",
    "    result = sys.maxsize\n",
    "    \n",
    "    for i in range(0,n):\n",
    "        sum = 0;\n",
    "        for j in range(0, n):\n",
    "            sum += abs(arr[i]-arr[j])\n",
    "        result = min(result, sum)\n",
    "    return result;\n",
    "         \n",
    " \n",
    "# Driver code\n",
    "arr = [2, 5, 4, 3]\n",
    "n = len(arr)\n",
    "print( \"Required Sum = \", sumOfMinAbsDifferences(arr, n))"
   ]
  },
  {
   "cell_type": "markdown",
   "id": "0b0ec4b6-6939-4add-a4b2-c32a66b1703a",
   "metadata": {},
   "source": [
    "### 51. Python Program to Sort Array according to the order defined by Another Array."
   ]
  },
  {
   "cell_type": "code",
   "execution_count": null,
   "id": "27548a7b-b5dc-4f69-8a63-7b7503295fb2",
   "metadata": {},
   "outputs": [],
   "source": [
    "def first(arr, low, high, x, n) :\n",
    "    if (high >= low) :\n",
    "        mid = low + (high - low) // 2; \n",
    "        if ((mid == 0 or x > arr[mid-1]) and arr[mid] == x) :\n",
    "            return mid\n",
    "        if (x > arr[mid]) :\n",
    "            return first(arr, (mid + 1), high, x, n)\n",
    "        return first(arr, low, (mid -1), x, n)\n",
    "         \n",
    "    return -1\n",
    "     \n",
    "\n",
    "def sortAccording(A1, A2, m, n) :\n",
    "   \n",
    "    temp = [0] * m\n",
    "    visited = [0] * m\n",
    "     \n",
    "    for i in range(0, m) :\n",
    "        temp[i] = A1[i]\n",
    "        visited[i] = 0\n",
    "  \n",
    "    # Sort elements in temp\n",
    "    temp.sort()\n",
    "     \n",
    "    ind = 0   \n",
    "  \n",
    "    for i in range(0, n) :\n",
    "         \n",
    "        f = first(temp, 0, m-1, A2[i], m)\n",
    "  \n",
    "        if (f == -1) :\n",
    "            continue\n",
    "  \n",
    "        j = f\n",
    "        while (m>j and temp[j]== A2[i]) :\n",
    "            A1[ind] = temp[j];\n",
    "            ind = ind + 1\n",
    "            visited[j] = 1\n",
    "            j = j + 1\n",
    "     \n",
    "    for i in range(0, m) :\n",
    "        if (visited[i] == 0) :\n",
    "            A1[ind] = temp[i]\n",
    "            ind = ind + 1\n",
    "             \n",
    "\n",
    "def printArray(arr, n) :\n",
    "    for i in range(0, n) :\n",
    "        print(arr[i], end = \" \")\n",
    "    print(\"\")\n",
    "     \n",
    "  \n",
    "# Driver program to test above function.\n",
    "arr1 = [ 20, 1, 20, 5, 7, 1, 9, 39, 6, 18, 18 ];\n",
    "arr2 = [ 20, 1, 18, 39 ];\n",
    "m = len(arr1)\n",
    "n = len(arr2)\n",
    "sortAccording(arr1, arr2, m, n)\n",
    "printArray(arr1, m)"
   ]
  },
  {
   "cell_type": "markdown",
   "id": "5d7c5534-da4f-4870-80a4-df3e16277ab7",
   "metadata": {},
   "source": [
    "### 52. Python Program to Replace each element by its Rank in the given Array."
   ]
  },
  {
   "cell_type": "code",
   "execution_count": 2,
   "id": "915d90de-dadb-427c-b32f-dc8466e3061d",
   "metadata": {},
   "outputs": [
    {
     "name": "stdout",
     "output_type": "stream",
     "text": [
      "[5, 1, 3, 2, 4]\n"
     ]
    }
   ],
   "source": [
    "def changeArr(input1):\n",
    " \n",
    "    newArray = input1.copy()\n",
    "    newArray.sort()\n",
    "     \n",
    "    for i in range(len(input1)):\n",
    "        for j in range(len(newArray)):\n",
    "            if input1[i]==newArray[j]:\n",
    "                input1[i] = j+1;\n",
    "                break;\n",
    "    \n",
    "# Driver Code\n",
    "arr = [100, 2, 70, 12 , 90]\n",
    "changeArr(arr)\n",
    "# Print the array elements\n",
    "print(arr)"
   ]
  },
  {
   "cell_type": "markdown",
   "id": "e20b3c1d-5461-4feb-8b63-b0067d80d2ad",
   "metadata": {},
   "source": [
    "### 53. Python program to find Equilibrium index of an array."
   ]
  },
  {
   "cell_type": "code",
   "execution_count": 3,
   "id": "4bd2e306-9bc1-4c0e-a907-b8f2da9f235a",
   "metadata": {},
   "outputs": [
    {
     "name": "stdout",
     "output_type": "stream",
     "text": [
      "Equilibrium index is  3\n"
     ]
    }
   ],
   "source": [
    "def equilibrium(arr):\n",
    "    leftsum = 0\n",
    "    rightsum = 0\n",
    "    n = len(arr)\n",
    " \n",
    "    for i in range(n):\n",
    "        leftsum = 0\n",
    "        rightsum = 0\n",
    "     \n",
    "        for j in range(i):\n",
    "            leftsum += arr[j]\n",
    "         \n",
    "        for j in range(i + 1, n):\n",
    "            rightsum += arr[j]\n",
    "         \n",
    "        if leftsum == rightsum:\n",
    "            return i\n",
    "     \n",
    "    return -1\n",
    "     \n",
    "# Driver code\n",
    "arr = [-4, 1, 5, 2, -4, 4, 2]\n",
    "print ('Equilibrium index is ',equilibrium(arr))"
   ]
  },
  {
   "cell_type": "markdown",
   "id": "a2657344-e140-4c8f-909b-96e56725471b",
   "metadata": {},
   "source": [
    "### 54. Python program for rotation of elements of array- left and right."
   ]
  },
  {
   "cell_type": "code",
   "execution_count": 4,
   "id": "528fbc49-db42-4cac-8aa2-fa37476df604",
   "metadata": {},
   "outputs": [
    {
     "name": "stdout",
     "output_type": "stream",
     "text": [
      " 30  40  50  60  70  10  20 "
     ]
    }
   ],
   "source": [
    "def leftRotate(arr, d, n):\n",
    "    for i in range(d):\n",
    "        leftRotatebyOne(arr, n)\n",
    " \n",
    "# Function to left Rotate arr[] of size n by 1*/\n",
    "def leftRotatebyOne(arr, n):\n",
    "    temp = arr[0]\n",
    "    for i in range(n-1):\n",
    "        arr[i] = arr[i + 1]\n",
    "    arr[n-1] = temp\n",
    "         \n",
    " \n",
    "# utility function to print an array */\n",
    "def printArray(arr, size):\n",
    "    for i in range(size):\n",
    "        print (\"% d\"% arr[i], end =\" \")\n",
    " \n",
    "  \n",
    "# Driver program to test above functions */\n",
    "arr = [10, 20, 30, 40, 50, 60, 70]\n",
    "leftRotate(arr, 2, 7)\n",
    "printArray(arr, 7)\n"
   ]
  },
  {
   "cell_type": "markdown",
   "id": "9c21d153-34a5-48ea-8142-6c46d7b45eb9",
   "metadata": {},
   "source": [
    "### 55. Python program for Block swapping algorithm for array rotation."
   ]
  },
  {
   "cell_type": "code",
   "execution_count": 6,
   "id": "2674efd8-dc6f-402a-9c75-375e6d25b07a",
   "metadata": {},
   "outputs": [
    {
     "name": "stdout",
     "output_type": "stream",
     "text": [
      "30 40 50 60 70 10 20 "
     ]
    }
   ],
   "source": [
    "def leftRotate(arr, d, n):\n",
    "    if(d == 0 or d == n):\n",
    "        return;\n",
    "    i = d\n",
    "    j = n - d\n",
    "    while (i != j):\n",
    "        if(i < j):\n",
    "            swap(arr, d - i, d + j - i, i)\n",
    "            j -= i\n",
    "        else:\n",
    "            swap(arr, d - i, d, j)\n",
    "            i -= j\n",
    "    swap(arr, d - i, d, i)\n",
    "\n",
    " \n",
    "def swap(arr, fi, si, d):\n",
    "    for i in range(d):\n",
    "        temp = arr[fi + i];\n",
    "        arr[fi + i] = arr[si + i];\n",
    "        arr[si + i] = temp;\n",
    " \n",
    "# Driver Code\n",
    "arr = [10, 20, 30, 40, 50, 60, 70]\n",
    "leftRotate(arr, 2, 7)\n",
    "\n",
    "for i in range(7):\n",
    "    print(arr[i], end = \" \")"
   ]
  },
  {
   "cell_type": "markdown",
   "id": "660ec688-2752-457b-8335-97142a067194",
   "metadata": {},
   "source": [
    "### 56. Sort array which consists of 0,1 and 2 without using any sorting algo."
   ]
  },
  {
   "cell_type": "code",
   "execution_count": 1,
   "id": "0ade8f2d-b927-46e5-bd24-65d7d12ef035",
   "metadata": {},
   "outputs": [
    {
     "name": "stdout",
     "output_type": "stream",
     "text": [
      "Before Soreting : [1, 2, 0, 2, 1, 0, 2, 1, 0, 2, 0, 1]\n",
      "After Sorting : [0, 0, 0, 0, 1, 1, 1, 1, 2, 2, 2, 2]\n"
     ]
    }
   ],
   "source": [
    "def sort(arr):\n",
    "    count_0 = arr.count(0)\n",
    "    count_1 = arr.count(1)\n",
    "    count_2 = arr.count(2)\n",
    "\n",
    "    new_arr = []\n",
    "\n",
    "    for i in range(count_0):\n",
    "        new_arr.append(0)\n",
    "\n",
    "    for i in range(count_1):\n",
    "        new_arr.append(1)\n",
    "    for i in range(count_2):\n",
    "        new_arr.append(2)\n",
    "\n",
    "    print(f\"After Sorting : {new_arr}\")\n",
    "\n",
    "array = [1, 2, 0, 2, 1, 0, 2, 1, 0, 2, 0, 1]\n",
    "print(f\"Before Soreting : {array}\")\n",
    "sort(array)"
   ]
  },
  {
   "cell_type": "markdown",
   "id": "8ada16cf-a536-46d0-bd9f-2816a60a2f53",
   "metadata": {},
   "source": [
    "### 57. Find the “Kth” max and min element of an array."
   ]
  },
  {
   "cell_type": "code",
   "execution_count": 5,
   "id": "45c3aeb5-8ca9-41d2-965f-44c7d998a388",
   "metadata": {},
   "outputs": [
    {
     "name": "stdout",
     "output_type": "stream",
     "text": [
      "Kth Min Element of an array : -1\n",
      "Kth Max Element of an array : 90\n"
     ]
    }
   ],
   "source": [
    "import math\n",
    "def min_max(arr):\n",
    "    min_val = math.inf\n",
    "    max_val = -math.inf\n",
    "\n",
    "    for i in arr:\n",
    "        if min_val > i:\n",
    "            min_val = i\n",
    "        if max_val < i:\n",
    "            max_val = i\n",
    "    print(f\"Kth Min Element of an array : {min_val}\")\n",
    "    print(f\"Kth Max Element of an array : {max_val}\")\n",
    "array = [-1, 2, 4, 5, 6, 8, 90]\n",
    "min_max(array)"
   ]
  },
  {
   "cell_type": "markdown",
   "id": "6b618e51-5e09-4a66-97e6-e0477b531e2c",
   "metadata": {},
   "source": [
    "### 58. Move all the negative elements to one side of the array using Python."
   ]
  },
  {
   "cell_type": "code",
   "execution_count": 7,
   "id": "9bd56afc-3cd1-42ef-99f1-d0251a154a50",
   "metadata": {},
   "outputs": [
    {
     "name": "stdout",
     "output_type": "stream",
     "text": [
      "Negative element at one side of array : [-6, -5, -3, -1, 1, 3, 3, 4, 7]\n"
     ]
    }
   ],
   "source": [
    "def negatoneside(arr):\n",
    "    arr.sort()\n",
    "    print(f\"Negative element at one side of array : {arr}\")\n",
    "array = [1, 3, -1, 4, -3, -5, -6, 3, 7]\n",
    "negatoneside(array)"
   ]
  },
  {
   "cell_type": "markdown",
   "id": "d8fbf6bc-efb9-4a17-b8eb-d0facfbf732c",
   "metadata": {},
   "source": [
    "### 59. Find the Union and Intersection of the two sorted arrays in Python."
   ]
  },
  {
   "cell_type": "code",
   "execution_count": 8,
   "id": "39dd158d-99f5-4d77-a042-77f4cc212195",
   "metadata": {},
   "outputs": [
    {
     "name": "stdout",
     "output_type": "stream",
     "text": [
      "Union : [2, 3, 4, 5, 7, 0, 9]\n",
      "Intersection : [2, 4, 5, 7]\n"
     ]
    }
   ],
   "source": [
    "def Union_intersection(arr1,arr2):\n",
    "    arr1.sort()\n",
    "    arr2.sort()\n",
    "\n",
    "    union = arr1.copy()\n",
    "    for element in arr2:\n",
    "        if element not in union:\n",
    "            union.append(element)\n",
    "    print(f\"Union : {union}\")\n",
    "\n",
    "    intersection = list(set(arr1) & set(arr2))\n",
    "    print(f\"Intersection : {intersection}\")\n",
    "arr1 = [2,3,5,7,4]\n",
    "arr2 = [4,5,7,9,0,2]\n",
    "Union_intersection(arr1,arr2)"
   ]
  },
  {
   "cell_type": "markdown",
   "id": "c9f44311-671e-46c9-b579-82fd2807dcae",
   "metadata": {},
   "source": [
    "### 60. Find Largest sum of contiguous Subarray in Python."
   ]
  },
  {
   "cell_type": "code",
   "execution_count": 9,
   "id": "bba85e3a-5561-4a5a-84f0-9c18582af2c5",
   "metadata": {},
   "outputs": [
    {
     "name": "stdout",
     "output_type": "stream",
     "text": [
      "Largest sum of contiguous subarray is: 7\n"
     ]
    }
   ],
   "source": [
    "def largest_sum_contiguous_subarray(arr):\n",
    "    # Initialize variables\n",
    "    max_current = arr[0]  # Maximum sum ending at the current position\n",
    "    max_global = arr[0]   # Maximum sum found so far\n",
    "\n",
    "    for i in range(1, len(arr)):\n",
    "        # Update max_current to either the current element alone \n",
    "        # or the sum of max_current and the current element\n",
    "        max_current = max(arr[i], max_current + arr[i])\n",
    "        \n",
    "        # Update max_global if the current max_current is greater\n",
    "        if max_current > max_global:\n",
    "            max_global = max_current\n",
    "\n",
    "    return max_global\n",
    "\n",
    "# Test array\n",
    "arr = [-2, -3, 4, -1, -2, 1, 5, -3]\n",
    "result = largest_sum_contiguous_subarray(arr)\n",
    "print(\"Largest sum of contiguous subarray is:\", result)"
   ]
  },
  {
   "cell_type": "markdown",
   "id": "280cc1af-c0a2-4bcd-9319-2678c5ed547f",
   "metadata": {},
   "source": [
    "### 61. Python Program for checking a character is a vowel or consonant."
   ]
  },
  {
   "cell_type": "code",
   "execution_count": 1,
   "id": "8cb5aa3b-a9c4-4e4d-9585-c4f8d286f986",
   "metadata": {},
   "outputs": [
    {
     "name": "stdin",
     "output_type": "stream",
     "text": [
      "Enter a Character :  24\n"
     ]
    },
    {
     "name": "stdout",
     "output_type": "stream",
     "text": [
      "No! it is not a Vowel?It is a Consonant\n"
     ]
    }
   ],
   "source": [
    "def vowel():\n",
    "    character = str(input(\"Enter a Character : \")) \n",
    "    \n",
    "    list = ['A','a','E','e','I','i','O','o','U','u']\n",
    "    \n",
    "    if character in list:\n",
    "        print(f\"Yes! it is a Vowel\")\n",
    "    else:\n",
    "        print(f\"No! it is not a Vowel?It is a Consonant\")\n",
    "        \n",
    "vowel()"
   ]
  },
  {
   "cell_type": "code",
   "execution_count": null,
   "id": "54fe53b0-e864-4951-ad3e-57907e139ae5",
   "metadata": {},
   "outputs": [],
   "source": []
  }
 ],
 "metadata": {
  "kernelspec": {
   "display_name": "Python 3 (ipykernel)",
   "language": "python",
   "name": "python3"
  },
  "language_info": {
   "codemirror_mode": {
    "name": "ipython",
    "version": 3
   },
   "file_extension": ".py",
   "mimetype": "text/x-python",
   "name": "python",
   "nbconvert_exporter": "python",
   "pygments_lexer": "ipython3",
   "version": "3.12.4"
  }
 },
 "nbformat": 4,
 "nbformat_minor": 5
}
