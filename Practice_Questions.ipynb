{
 "cells": [
  {
   "cell_type": "markdown",
   "id": "7b44f551-a7d5-482c-b8c7-7d1bb932b94c",
   "metadata": {},
   "source": [
    "### 1. Check if a Number is Positive and Negative in Python\n",
    "##### Given an integer input, The objective is to write a code to Check if a Number is Positive or Negative"
   ]
  },
  {
   "cell_type": "code",
   "execution_count": 1,
   "id": "57aa3308-f9ed-426c-af2d-6130df355d16",
   "metadata": {},
   "outputs": [
    {
     "name": "stdin",
     "output_type": "stream",
     "text": [
      "num = 20\n"
     ]
    },
    {
     "name": "stdout",
     "output_type": "stream",
     "text": [
      "Number is Positive\n"
     ]
    }
   ],
   "source": [
    "i = int(input(\"num =\"))\n",
    "if i>0:\n",
    "    print(\"Number is Positive\")\n",
    "else:\n",
    "    print(\"Number is Negative\")"
   ]
  },
  {
   "cell_type": "markdown",
   "id": "01f19023-afbf-42e7-8581-1cc48730d1dd",
   "metadata": {},
   "source": [
    "### 2. Check Whether a Number is Even or Odd in Python\n",
    "##### Given an integer input num, the objective is to write a code to Check Whether a Number is Even or Odd in Python. To do so we check if the number is divisible by 2 or not, it’s Even if it’s divisible otherwise Odd"
   ]
  },
  {
   "cell_type": "code",
   "execution_count": 1,
   "id": "d6fce60a-bffc-427c-9d66-a44f359fa5f9",
   "metadata": {},
   "outputs": [
    {
     "name": "stdin",
     "output_type": "stream",
     "text": [
      "num = 2\n"
     ]
    },
    {
     "name": "stdout",
     "output_type": "stream",
     "text": [
      "Even\n"
     ]
    }
   ],
   "source": [
    "num = int(input(\"num =\"))\n",
    "if num%2==0:\n",
    "    print(\"Even\")\n",
    "else:\n",
    "    print(\"Odd\")"
   ]
  },
  {
   "cell_type": "markdown",
   "id": "e0f17d63-ce18-4430-a2bb-728b7afa37b8",
   "metadata": {},
   "source": [
    "### 3. Find the Sum of The First N Natural Numbers in Python\n",
    "##### Given an integer input the objective is to write a code to Find the Sum of First N Natural Numbers"
   ]
  },
  {
   "cell_type": "code",
   "execution_count": 2,
   "id": "7966333e-f383-478d-88bf-023572c60330",
   "metadata": {},
   "outputs": [
    {
     "name": "stdin",
     "output_type": "stream",
     "text": [
      "num = 4\n"
     ]
    },
    {
     "name": "stdout",
     "output_type": "stream",
     "text": [
      "10\n"
     ]
    }
   ],
   "source": [
    "num = int(input(\"num =\"))\n",
    "total=0\n",
    "for i in range(1,num+1):\n",
    "    total=total+i\n",
    "print(total)"
   ]
  },
  {
   "cell_type": "markdown",
   "id": "c24b8923-4624-4aeb-b8d3-780e956ca865",
   "metadata": {},
   "source": [
    "### 4. Find the Sum of N Natural Numbers in Python\n",
    "##### Given an integer input number, the objective is to sum all the numbers that lay from 1 to the integer input number and print the sum."
   ]
  },
  {
   "cell_type": "code",
   "execution_count": 4,
   "id": "c6371205-4942-4243-990f-170f530607aa",
   "metadata": {},
   "outputs": [
    {
     "name": "stdin",
     "output_type": "stream",
     "text": [
      "number = 10\n"
     ]
    },
    {
     "name": "stdout",
     "output_type": "stream",
     "text": [
      "55\n"
     ]
    }
   ],
   "source": [
    "number = int(input(\"number =\"))\n",
    "total = 0\n",
    "for i in range(1,number+1):\n",
    "    total = total+i\n",
    "print(total)"
   ]
  },
  {
   "cell_type": "markdown",
   "id": "c7c7515e-e62b-400f-b4a6-164721490175",
   "metadata": {},
   "source": [
    "### 5. Find the Sum of the Numbers in a Given Range\n",
    "##### Given two integer inputs as the range [ low , high ], the objective is to find the sum of the numbers that lay in the intervals given by the integer inputs."
   ]
  },
  {
   "cell_type": "code",
   "execution_count": 6,
   "id": "4ccacdda-2ff4-43f3-977d-172459df90a1",
   "metadata": {},
   "outputs": [
    {
     "name": "stdin",
     "output_type": "stream",
     "text": [
      "num1 = 2\n",
      "num2 = 10\n"
     ]
    },
    {
     "name": "stdout",
     "output_type": "stream",
     "text": [
      "54\n"
     ]
    }
   ],
   "source": [
    "num1= int(input(\"num1 =\"))\n",
    "num2= int(input(\"num2 =\"))\n",
    "total = 0\n",
    "for i in range(num1,num2+1):\n",
    "    total = total+i\n",
    "print(total)"
   ]
  },
  {
   "cell_type": "code",
   "execution_count": null,
   "id": "549e84dd-c08f-44c4-ba99-941bc0d6de8c",
   "metadata": {},
   "outputs": [],
   "source": []
  }
 ],
 "metadata": {
  "kernelspec": {
   "display_name": "Python 3 (ipykernel)",
   "language": "python",
   "name": "python3"
  },
  "language_info": {
   "codemirror_mode": {
    "name": "ipython",
    "version": 3
   },
   "file_extension": ".py",
   "mimetype": "text/x-python",
   "name": "python",
   "nbconvert_exporter": "python",
   "pygments_lexer": "ipython3",
   "version": "3.12.4"
  }
 },
 "nbformat": 4,
 "nbformat_minor": 5
}
