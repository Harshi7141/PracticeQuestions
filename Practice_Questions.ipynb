{
 "cells": [
  {
   "cell_type": "markdown",
   "id": "7b44f551-a7d5-482c-b8c7-7d1bb932b94c",
   "metadata": {},
   "source": [
    "### 1. Check if a Number is Positive and Negative in Python\n",
    "##### Given an integer input, The objective is to write a code to Check if a Number is Positive or Negative"
   ]
  },
  {
   "cell_type": "code",
   "execution_count": 1,
   "id": "57aa3308-f9ed-426c-af2d-6130df355d16",
   "metadata": {},
   "outputs": [
    {
     "name": "stdin",
     "output_type": "stream",
     "text": [
      "num = 20\n"
     ]
    },
    {
     "name": "stdout",
     "output_type": "stream",
     "text": [
      "Number is Positive\n"
     ]
    }
   ],
   "source": [
    "i = int(input(\"num =\"))\n",
    "if i>0:\n",
    "    print(\"Number is Positive\")\n",
    "else:\n",
    "    print(\"Number is Negative\")"
   ]
  },
  {
   "cell_type": "code",
   "execution_count": null,
   "id": "4792e7f3-cd84-46b4-859b-275a9db6be8a",
   "metadata": {},
   "outputs": [],
   "source": []
  }
 ],
 "metadata": {
  "kernelspec": {
   "display_name": "Python 3 (ipykernel)",
   "language": "python",
   "name": "python3"
  },
  "language_info": {
   "codemirror_mode": {
    "name": "ipython",
    "version": 3
   },
   "file_extension": ".py",
   "mimetype": "text/x-python",
   "name": "python",
   "nbconvert_exporter": "python",
   "pygments_lexer": "ipython3",
   "version": "3.12.4"
  }
 },
 "nbformat": 4,
 "nbformat_minor": 5
}
