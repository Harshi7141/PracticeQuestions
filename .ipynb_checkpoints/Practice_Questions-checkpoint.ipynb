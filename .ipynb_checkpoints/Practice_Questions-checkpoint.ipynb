{
 "cells": [
  {
   "cell_type": "markdown",
   "id": "7b44f551-a7d5-482c-b8c7-7d1bb932b94c",
   "metadata": {},
   "source": [
    "### 1. Check if a Number is Positive and Negative in Python\n",
    "##### Given an integer input, The objective is to write a code to Check if a Number is Positive or Negative"
   ]
  },
  {
   "cell_type": "code",
   "execution_count": 1,
   "id": "57aa3308-f9ed-426c-af2d-6130df355d16",
   "metadata": {},
   "outputs": [
    {
     "name": "stdin",
     "output_type": "stream",
     "text": [
      "num = 20\n"
     ]
    },
    {
     "name": "stdout",
     "output_type": "stream",
     "text": [
      "Number is Positive\n"
     ]
    }
   ],
   "source": [
    "i = int(input(\"num =\"))\n",
    "if i>0:\n",
    "    print(\"Number is Positive\")\n",
    "else:\n",
    "    print(\"Number is Negative\")"
   ]
  },
  {
   "cell_type": "markdown",
   "id": "01f19023-afbf-42e7-8581-1cc48730d1dd",
   "metadata": {},
   "source": [
    "### 2. Check Whether a Number is Even or Odd in Python\n",
    "##### Given an integer input num, the objective is to write a code to Check Whether a Number is Even or Odd in Python. To do so we check if the number is divisible by 2 or not, it’s Even if it’s divisible otherwise Odd"
   ]
  },
  {
   "cell_type": "code",
   "execution_count": 1,
   "id": "d6fce60a-bffc-427c-9d66-a44f359fa5f9",
   "metadata": {},
   "outputs": [
    {
     "name": "stdin",
     "output_type": "stream",
     "text": [
      "num = 2\n"
     ]
    },
    {
     "name": "stdout",
     "output_type": "stream",
     "text": [
      "Even\n"
     ]
    }
   ],
   "source": [
    "num = int(input(\"num =\"))\n",
    "if num%2==0:\n",
    "    print(\"Even\")\n",
    "else:\n",
    "    print(\"Odd\")"
   ]
  },
  {
   "cell_type": "markdown",
   "id": "e0f17d63-ce18-4430-a2bb-728b7afa37b8",
   "metadata": {},
   "source": [
    "### 3. Find the Sum of The First N Natural Numbers in Python\n",
    "##### Given an integer input the objective is to write a code to Find the Sum of First N Natural Numbers"
   ]
  },
  {
   "cell_type": "code",
   "execution_count": 2,
   "id": "7966333e-f383-478d-88bf-023572c60330",
   "metadata": {},
   "outputs": [
    {
     "name": "stdin",
     "output_type": "stream",
     "text": [
      "num = 4\n"
     ]
    },
    {
     "name": "stdout",
     "output_type": "stream",
     "text": [
      "10\n"
     ]
    }
   ],
   "source": [
    "num = int(input(\"num =\"))\n",
    "total=0\n",
    "for i in range(1,num+1):\n",
    "    total=total+i\n",
    "print(total)"
   ]
  },
  {
   "cell_type": "markdown",
   "id": "c24b8923-4624-4aeb-b8d3-780e956ca865",
   "metadata": {},
   "source": [
    "### 4. Find the Sum of N Natural Numbers in Python\n",
    "##### Given an integer input number, the objective is to sum all the numbers that lay from 1 to the integer input number and print the sum."
   ]
  },
  {
   "cell_type": "code",
   "execution_count": 4,
   "id": "c6371205-4942-4243-990f-170f530607aa",
   "metadata": {},
   "outputs": [
    {
     "name": "stdin",
     "output_type": "stream",
     "text": [
      "number = 10\n"
     ]
    },
    {
     "name": "stdout",
     "output_type": "stream",
     "text": [
      "55\n"
     ]
    }
   ],
   "source": [
    "number = int(input(\"number =\"))\n",
    "total = 0\n",
    "for i in range(1,number+1):\n",
    "    total = total+i\n",
    "print(total)"
   ]
  },
  {
   "cell_type": "markdown",
   "id": "c7c7515e-e62b-400f-b4a6-164721490175",
   "metadata": {},
   "source": [
    "### 5. Find the Sum of the Numbers in a Given Range\n",
    "##### Given two integer inputs as the range [ low , high ], the objective is to find the sum of the numbers that lay in the intervals given by the integer inputs."
   ]
  },
  {
   "cell_type": "code",
   "execution_count": 6,
   "id": "4ccacdda-2ff4-43f3-977d-172459df90a1",
   "metadata": {},
   "outputs": [
    {
     "name": "stdin",
     "output_type": "stream",
     "text": [
      "num1 = 2\n",
      "num2 = 10\n"
     ]
    },
    {
     "name": "stdout",
     "output_type": "stream",
     "text": [
      "54\n"
     ]
    }
   ],
   "source": [
    "num1= int(input(\"num1 =\"))\n",
    "num2= int(input(\"num2 =\"))\n",
    "total = 0\n",
    "for i in range(num1,num2+1):\n",
    "    total = total+i\n",
    "print(total)"
   ]
  },
  {
   "cell_type": "markdown",
   "id": "19605d8a-42b8-4147-bac5-be8d88da6c46",
   "metadata": {},
   "source": [
    "### 6. Find the Greatest of the Two Numbers\n",
    "##### Given two integer inputs as number1 and number2, the objective is to find the largest among the two."
   ]
  },
  {
   "cell_type": "markdown",
   "id": "bff1ac6f-e6dc-4f7e-b2cd-719afdf83df9",
   "metadata": {},
   "source": [
    "n1 = int(input(\"\"))\n",
    "n2 = int(input(\"\"))\n",
    "if n1>n2:\n",
    "    print(n1)\n",
    "else:\n",
    "    print(n2)"
   ]
  },
  {
   "cell_type": "markdown",
   "id": "309033ec-4d06-42ba-b3ad-fc2c11c653f6",
   "metadata": {},
   "source": [
    "### 7. Find the Greatest of the Three Numbers\n",
    "##### Given three integer inputs the objective is to find the largest among them."
   ]
  },
  {
   "cell_type": "code",
   "execution_count": 2,
   "id": "49059edb-b34b-480b-9582-9d61271df182",
   "metadata": {},
   "outputs": [
    {
     "name": "stdout",
     "output_type": "stream",
     "text": [
      "30\n"
     ]
    }
   ],
   "source": [
    "n1 = 10\n",
    "n2 = 20\n",
    "n3 = 30\n",
    "if n1>n2 and n1>n3:\n",
    "    print(n1)\n",
    "elif n2>n1 and n2>n3:\n",
    "    print(n2)\n",
    "else:\n",
    "    print(n3)"
   ]
  },
  {
   "cell_type": "markdown",
   "id": "bb07e4fa-c353-4038-b18b-57afe4a32b33",
   "metadata": {},
   "source": [
    "### 8. Check Whether a Year is a Leap Year or Not"
   ]
  },
  {
   "cell_type": "code",
   "execution_count": 4,
   "id": "9cdc23db-e4a4-4df2-9461-ae5efa87e51c",
   "metadata": {},
   "outputs": [
    {
     "name": "stdout",
     "output_type": "stream",
     "text": [
      "20 is leap year.\n"
     ]
    }
   ],
   "source": [
    "def leap(num):\n",
    "    if num%400==0 or (num%4==0 and num%100!=0):\n",
    "        print(f\"{num} is leap year.\")\n",
    "    else:\n",
    "        print(f\"{num} is not a leap year.\")\n",
    "leap(20)"
   ]
  },
  {
   "cell_type": "markdown",
   "id": "c2036c8c-3909-40b9-9c93-7f5d347b6b42",
   "metadata": {},
   "source": [
    "### 9. Check Whether a Number is a Prime or Not"
   ]
  },
  {
   "cell_type": "code",
   "execution_count": 5,
   "id": "97c9735e-1283-4858-b6cb-29070a8f6bd8",
   "metadata": {},
   "outputs": [
    {
     "name": "stdout",
     "output_type": "stream",
     "text": [
      "3 is a prime number\n"
     ]
    }
   ],
   "source": [
    "def primenum(number):\n",
    "    flag = False\n",
    "    if number == 1:\n",
    "        print(f\"{number} is not a prime number.\")\n",
    "    if number == 2:\n",
    "        print(f\"{number} is a prime number.\")\n",
    "    for i in range(2, int(number//2)+1):\n",
    "        if number%i==0:\n",
    "            flag = True\n",
    "            break\n",
    "    if flag:\n",
    "        print(f\"{number} is not a prime number.\")\n",
    "    else:\n",
    "        print(f\"{number} is a prime number\")\n",
    "primenum(3)"
   ]
  },
  {
   "cell_type": "markdown",
   "id": "21c2eb58-464b-4a74-8c3e-eaaf97b14ca1",
   "metadata": {},
   "source": [
    "### 10. Find the Prime Numbers in a Given Interval"
   ]
  },
  {
   "cell_type": "code",
   "execution_count": 6,
   "id": "22243a7c-e289-4714-b2d8-fa134c5d75b6",
   "metadata": {},
   "outputs": [
    {
     "name": "stdout",
     "output_type": "stream",
     "text": [
      "[2, 3, 5, 7]\n"
     ]
    }
   ],
   "source": [
    "def primeininterval(num1,num2):\n",
    "    primes=[]\n",
    "    for i in range(num1, num2+1):\n",
    "        flag = False\n",
    "        if i == 1:\n",
    "            continue\n",
    "        elif i == 2:\n",
    "            primes.append(2)\n",
    "            continue\n",
    "        for x in range(num1, i):\n",
    "            if i%x==0:\n",
    "                flag = True\n",
    "                break\n",
    "\n",
    "        if flag==False:\n",
    "            primes.append(i)\n",
    "    print(primes)   \n",
    "primeininterval(2,10)"
   ]
  },
  {
   "cell_type": "markdown",
   "id": "d160d2df-0853-44f1-983a-9f473696eef0",
   "metadata": {},
   "source": [
    "### 11. Find the sum of the Digits of a Number."
   ]
  },
  {
   "cell_type": "code",
   "execution_count": 3,
   "id": "a09275f4-c50f-4a32-984d-eb0dc824dda3",
   "metadata": {},
   "outputs": [
    {
     "name": "stdin",
     "output_type": "stream",
     "text": [
      "Enter a Number :  111\n"
     ]
    },
    {
     "name": "stdout",
     "output_type": "stream",
     "text": [
      "Sum of Digits Of Number is :  3\n"
     ]
    }
   ],
   "source": [
    "def digitsum():\n",
    "    num = int(input(\"Enter a Number : \"))\n",
    "    temp = num\n",
    "    sum=0\n",
    "    i = 1\n",
    "    while(temp):\n",
    "        remainder = temp%10\n",
    "        sum += remainder\n",
    "        temp = temp//10\n",
    "    print(\"Sum of Digits Of Number is : \",sum)\n",
    "digitsum()\n"
   ]
  },
  {
   "cell_type": "markdown",
   "id": "4b6eda71-0361-4bc3-bec8-6e3bfcc48d86",
   "metadata": {},
   "source": [
    "### 12. Find the Reverse of a Number."
   ]
  },
  {
   "cell_type": "code",
   "execution_count": 5,
   "id": "fcdee46c-f703-4f92-b3e2-737f2c4af12c",
   "metadata": {},
   "outputs": [
    {
     "name": "stdout",
     "output_type": "stream",
     "text": [
      "6543\n"
     ]
    }
   ],
   "source": [
    "def reversenum(num):\n",
    "    temp = num\n",
    "    reverse = 0\n",
    "    while num>0:\n",
    "        remainder = num%10\n",
    "        reverse = (reverse*10)+ remainder\n",
    "        num = num//10\n",
    "    print(reverse)\n",
    "\n",
    "reversenum(3456)"
   ]
  },
  {
   "cell_type": "markdown",
   "id": "45c2a398-f460-4bc7-9710-ae98f13639ca",
   "metadata": {},
   "source": [
    "### 13. Check Whether or Not the Number is a Palindrome."
   ]
  },
  {
   "cell_type": "code",
   "execution_count": 1,
   "id": "dc823467-864f-477e-aaae-0b7c66440713",
   "metadata": {},
   "outputs": [
    {
     "name": "stdin",
     "output_type": "stream",
     "text": [
      "Enter a Palindrome Number :  1221\n"
     ]
    },
    {
     "name": "stdout",
     "output_type": "stream",
     "text": [
      "Entered Number 1221 is a Palindrome Number.\n"
     ]
    }
   ],
   "source": [
    "    def palindrome():\n",
    "        num = int(input(\"Enter a Palindrome Number : \"))\n",
    "        temp = num\n",
    "        reverse = 0\n",
    "        while temp>0:\n",
    "            remainder = temp%10\n",
    "            reverse = (reverse*10)+remainder\n",
    "            temp = temp //10\n",
    "        if num == reverse:\n",
    "            print(f\"Entered Number {num} is a Palindrome Number.\")\n",
    "        else:\n",
    "            print(f\"Entered Number {num} is not a Palindrome Number.\")\n",
    "    \n",
    "    palindrome()"
   ]
  },
  {
   "cell_type": "markdown",
   "id": "9af39230-41be-42a4-8a77-194b06ce7c9b",
   "metadata": {},
   "source": [
    "### 14. Check Whether a Given Number is an Armstrong Number or Not."
   ]
  },
  {
   "cell_type": "code",
   "execution_count": 3,
   "id": "09f88fa8-cb9f-4708-ab47-05db689f2051",
   "metadata": {},
   "outputs": [
    {
     "name": "stdin",
     "output_type": "stream",
     "text": [
      "Enter a Number :  34\n"
     ]
    },
    {
     "name": "stdout",
     "output_type": "stream",
     "text": [
      "Entered Number is not a Armstrong\n"
     ]
    }
   ],
   "source": [
    "def armstrongnum():\n",
    "    number = int(input(\"Enter a Number : \"))\n",
    "    temp = number\n",
    "    digit, sum = 0,0\n",
    "    length = len(str(temp))\n",
    "    for i in range(length):\n",
    "        digit = temp % 10\n",
    "        temp = temp/10\n",
    "        sum += pow(digit, length)\n",
    "    if sum == number:\n",
    "        print(\"Entered Number is Armstrong\")\n",
    "    else:\n",
    "        print(\"Entered Number is not a Armstrong\")\n",
    "\n",
    "armstrongnum()"
   ]
  },
  {
   "cell_type": "markdown",
   "id": "3075fecb-04af-4767-8a2b-2f333d57819b",
   "metadata": {},
   "source": [
    "### 15. Find the Armstrong Numbers in a given Range."
   ]
  },
  {
   "cell_type": "code",
   "execution_count": 4,
   "id": "5c106998-44e8-4bc8-9c8a-52e7cf9d4a38",
   "metadata": {},
   "outputs": [
    {
     "name": "stdout",
     "output_type": "stream",
     "text": [
      "153, 370, 371, 407, 1634, 8208, 9474, "
     ]
    }
   ],
   "source": [
    "def armstrongrange(low , high):\n",
    "\n",
    "    for i in range(low, high+1):\n",
    "        order = len(str(i))\n",
    "        sum = 0\n",
    "        temp = i \n",
    "        while temp > 0:\n",
    "            digit = temp%10\n",
    "            sum += digit**order\n",
    "            temp = temp//10\n",
    "        if i == sum:\n",
    "            print(i, end=', ')\n",
    "            \n",
    "armstrongrange(10,10000)    "
   ]
  },
  {
   "cell_type": "markdown",
   "id": "79061a5d-2aaf-43a2-8373-417290573b79",
   "metadata": {},
   "source": [
    "### 16. Find the Fibonacci Series up to Nth Term."
   ]
  },
  {
   "cell_type": "code",
   "execution_count": 1,
   "id": "555911a5-cda0-4953-8d55-ff98e380d331",
   "metadata": {},
   "outputs": [
    {
     "name": "stdout",
     "output_type": "stream",
     "text": [
      "Fibonacci Series :  0, 1, 1, 2, 3, 5, 8, 13, 21, 34, \n"
     ]
    }
   ],
   "source": [
    "def fibbo(num):\n",
    "    n1, n2=0,1\n",
    "    print(\"Fibonacci Series : \",n1,end=', ')\n",
    "    print(n2,end=', ')\n",
    "    for i in range(2,num):\n",
    "        n3 = n1+n2\n",
    "        n1 = n2\n",
    "        n2 = n3\n",
    "        print(n3, end=\", \")\n",
    "    print()\n",
    "\n",
    "fibbo(10)"
   ]
  },
  {
   "cell_type": "markdown",
   "id": "f12185e3-b17d-4775-9461-70a7ac62d97a",
   "metadata": {},
   "source": [
    "### 17. Factorial of a Number."
   ]
  },
  {
   "cell_type": "code",
   "execution_count": 2,
   "id": "32ea49d5-123a-4444-83c0-7b26ce1c385f",
   "metadata": {},
   "outputs": [
    {
     "name": "stdout",
     "output_type": "stream",
     "text": [
      "Factorial of number 6 is : 720\n"
     ]
    }
   ],
   "source": [
    "def factorial(num):\n",
    "    fact = 1\n",
    "    if num<0:\n",
    "        print(\"Not Possible.\")\n",
    "    else:\n",
    "        for i in range(1, num+1):\n",
    "            fact = fact* i\n",
    "    print(f\"Factorial of number {num} is : {fact}\")\n",
    "factorial(6)"
   ]
  },
  {
   "cell_type": "markdown",
   "id": "205bcba8-d363-4f67-b98c-6de4412aa38a",
   "metadata": {},
   "source": [
    "### 18. Find the Power of a Number."
   ]
  },
  {
   "cell_type": "code",
   "execution_count": 3,
   "id": "8e69971b-394b-4772-8f4a-348298ac6194",
   "metadata": {},
   "outputs": [
    {
     "name": "stdout",
     "output_type": "stream",
     "text": [
      "81\n"
     ]
    }
   ],
   "source": [
    "def powernum(num1, num2):\n",
    "    if num1<0 and num2<1:\n",
    "        print(\"Enter Valid Number.\")\n",
    "    else:\n",
    "        powers = num1**num2\n",
    "    print(powers)\n",
    "\n",
    "powernum(9,2)"
   ]
  },
  {
   "cell_type": "markdown",
   "id": "4c26f599-2d06-4eb9-8e3b-7fc6bb681bee",
   "metadata": {},
   "source": [
    "### 19. Find the factors of a Number."
   ]
  },
  {
   "cell_type": "code",
   "execution_count": 4,
   "id": "e0a83f2d-6fb8-4885-b580-b5a86ed83c72",
   "metadata": {},
   "outputs": [
    {
     "name": "stdout",
     "output_type": "stream",
     "text": [
      "1 2 4 5 10 20 25 50 100 "
     ]
    }
   ],
   "source": [
    "def factor(num):\n",
    "    for i in range(1,num+1):\n",
    "        if num%i==0:\n",
    "            print(i,end=' ')\n",
    "factor(100)"
   ]
  },
  {
   "cell_type": "markdown",
   "id": "3230121c-f613-4efd-90a3-632c224620d7",
   "metadata": {},
   "source": [
    "### 20. Finding Prime Factors of a Number."
   ]
  },
  {
   "cell_type": "code",
   "execution_count": 5,
   "id": "3fbbab6b-08e3-4b3b-b311-598564797572",
   "metadata": {},
   "outputs": [
    {
     "name": "stdout",
     "output_type": "stream",
     "text": [
      "[2, 3]\n"
     ]
    }
   ],
   "source": [
    "def primefactor(num,prime_factors=None):\n",
    "    prime_factors=[]\n",
    "    for i in range(1,num+1):\n",
    "        if i == 1:\n",
    "            continue\n",
    "        if num%i==0:\n",
    "            flag = 0\n",
    "            for j in range(2,i):\n",
    "                if i%j==0:\n",
    "                    flag = 1\n",
    "                    break\n",
    "            if flag==0:\n",
    "                prime_factors.append(i)\n",
    "    print(prime_factors)\n",
    "primefactor(24)"
   ]
  },
  {
   "cell_type": "markdown",
   "id": "83c78142-50d8-41bd-893e-46eb525a1df5",
   "metadata": {},
   "source": [
    "### 21. Check Whether or Not the Number is a Strong Number."
   ]
  },
  {
   "cell_type": "code",
   "execution_count": 1,
   "id": "86e1a1d6-4087-4b8f-b37e-1beee1cefe08",
   "metadata": {},
   "outputs": [
    {
     "name": "stdin",
     "output_type": "stream",
     "text": [
      "Enter a Number :  12\n"
     ]
    },
    {
     "name": "stdout",
     "output_type": "stream",
     "text": [
      "12 is not a Strong Number.\n"
     ]
    }
   ],
   "source": [
    "def strongnum():\n",
    "    num = int(input(\"Enter a Number : \"))\n",
    "    temp = num\n",
    "    sum = 0\n",
    "    while(temp):\n",
    "        i = 1\n",
    "        p =1\n",
    "        r = temp%10\n",
    "        while i<=r:\n",
    "            p = p*i\n",
    "            i+=1\n",
    "        sum += p\n",
    "        temp = temp//10\n",
    "    if sum==num:\n",
    "        print(f\"{num} is a Strong Number.\")\n",
    "    else:\n",
    "        print(f\"{num} is not a Strong Number.\")\n",
    "strongnum()"
   ]
  },
  {
   "cell_type": "code",
   "execution_count": null,
   "id": "6e1a10e5-6b37-44e9-8c60-a2d878ee1cee",
   "metadata": {},
   "outputs": [],
   "source": []
  }
 ],
 "metadata": {
  "kernelspec": {
   "display_name": "Python 3 (ipykernel)",
   "language": "python",
   "name": "python3"
  },
  "language_info": {
   "codemirror_mode": {
    "name": "ipython",
    "version": 3
   },
   "file_extension": ".py",
   "mimetype": "text/x-python",
   "name": "python",
   "nbconvert_exporter": "python",
   "pygments_lexer": "ipython3",
   "version": "3.12.4"
  }
 },
 "nbformat": 4,
 "nbformat_minor": 5
}
